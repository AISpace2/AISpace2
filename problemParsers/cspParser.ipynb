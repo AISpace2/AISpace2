{
 "cells": [
  {
   "cell_type": "markdown",
   "metadata": {},
   "source": [
    "# CSP Parser\n",
    "## Introduction\n",
    "This parser is for converting problems from AIspace to AISpace2.\n",
    "\n",
    "## Usage\n",
    "Change the value of 'path_to_XML' to the real path of your XML file and run the script. The code to construct problem will be shown below.\n",
    "\n",
    "## Notice\n",
    "\n",
    "Supports constrain functions: **GreaterThan, LessThan, Equals, Complement, Custom Constrains.**\n",
    "\n"
   ]
  },
  {
   "cell_type": "code",
   "execution_count": 3,
   "metadata": {},
   "outputs": [
    {
     "data": {
      "text/plain": [
       "\"Crossword_Problem_2 = CSP({'oneacross': ['ant', 'big', 'bus', 'car', 'has'], 'onedown': ['book', 'buys', 'hold', 'lane', 'year'], 'twodown': ['ginger', 'search', 'symbol', 'syntax'], 'threeacross': ['book', 'buys', 'hold', 'land', 'year'], 'fouracross': ['ant', 'big', 'bus', 'car', 'has']},[Constraint(('oneacross','onedown'),Crossword),Constraint(('oneacross','twodown'),Crossword),Constraint(('twodown','threeacross'),Crossword),Constraint(('onedown','threeacross'),Crossword),Constraint(('fouracross','twodown'),Crossword)],positions = {'oneacross': (7170.3535, 5148.2227), 'onedown': (7247.695, 5313.5586), 'twodown': (7293.667, 5067.548), 'threeacross': (7473.8267, 5302.9976), 'fouracross': (7503.646, 5064.442)})\""
      ]
     },
     "execution_count": 3,
     "metadata": {},
     "output_type": "execute_result"
    }
   ],
   "source": [
    "import cspParser\n",
    "path_to_XML = ''  ## Fill in the Path to your File\n",
    "cspParser.loadFromXML(path_to_XML)"
   ]
  },
  {
   "cell_type": "code",
   "execution_count": null,
   "metadata": {},
   "outputs": [],
   "source": []
  }
 ],
 "metadata": {
  "kernelspec": {
   "display_name": "Python 3",
   "language": "python",
   "name": "python3"
  },
  "language_info": {
   "codemirror_mode": {
    "name": "ipython",
    "version": 3
   },
   "file_extension": ".py",
   "mimetype": "text/x-python",
   "name": "python",
   "nbconvert_exporter": "python",
   "pygments_lexer": "ipython3",
   "version": "3.7.3"
  }
 },
 "nbformat": 4,
 "nbformat_minor": 4
}
