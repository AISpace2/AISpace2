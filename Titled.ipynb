{
 "cells": [
  {
   "cell_type": "markdown",
   "metadata": {
    "extensions": {
     "jupyter_dashboards": {
      "version": 1,
      "views": {
       "grid_default": {
        "col": 0,
        "height": 4,
        "hidden": false,
        "row": 0,
        "width": 4
       },
       "report_default": {
        "hidden": false
       }
      }
     }
    }
   },
   "source": [
    "Here is the code for the constraint solver."
   ]
  },
  {
   "cell_type": "markdown",
   "metadata": {
    "extensions": {
     "jupyter_dashboards": {
      "version": 1,
      "views": {
       "grid_default": {
        "col": 4,
        "height": 4,
        "hidden": false,
        "row": 0,
        "width": 4
       },
       "report_default": {
        "hidden": false
       }
      }
     }
    }
   },
   "source": [
    "There are several pre-made examples in `cspExamples.py`; below we'll try out one of them."
   ]
  },
  {
   "cell_type": "code",
   "execution_count": null,
   "metadata": {
    "code_folding": [
     1,
     25,
     49
    ],
    "collapsed": true
   },
   "outputs": [],
   "source": [
    "from functools import wraps\n",
    "def yield_for_change(widget, attribute):\n",
    "    \"\"\"Pause a generator to wait for a widget change event.\n",
    "\n",
    "    This is a decorator for a generator function which pauses the generator on yield\n",
    "    until the given widget attribute changes. The new value of the attribute is\n",
    "    sent to the generator and is the value of the yield.\n",
    "    \"\"\"\n",
    "    def f(iterator):\n",
    "        @wraps(iterator)\n",
    "        def inner(*args):\n",
    "            i = iterator(*args)\n",
    "            to_do = None\n",
    "            def next_i(change):\n",
    "                try:\n",
    "                    i.send(to_do.pop())\n",
    "                except StopIteration as e:\n",
    "                    widget.unobserve(next_i, attribute)\n",
    "            widget.observe(next_i, attribute)\n",
    "            # start the generator\n",
    "            to_do = next(i)\n",
    "        return inner\n",
    "    return f\n",
    "\n",
    "\n",
    "def yield_for_click(widget):\n",
    "    \"\"\"Pause a generator to wait for a widget change event.\n",
    "\n",
    "    This is a decorator for a generator function which pauses the generator on yield\n",
    "    until the given widget attribute changes. The new value of the attribute is\n",
    "    sent to the generator and is the value of the yield.\n",
    "    \"\"\"\n",
    "    def f(iterator):\n",
    "        @wraps(iterator)\n",
    "        def inner(*args):\n",
    "            i = iterator(*args)\n",
    "            def next_i(change):\n",
    "                try:\n",
    "                    b = i.send(change)\n",
    "                    print(b)\n",
    "                except StopIteration as e:\n",
    "                    widget.unobserve(next_i)\n",
    "            widget.on_click(next_i)\n",
    "            # start the generator\n",
    "            c = next(i)\n",
    "            print('next')\n",
    "        return inner\n",
    "    return f\n",
    "\n",
    "def yield_for_click2(widget):\n",
    "    \"\"\"Pause a generator to wait for a widget change event.\n",
    "\n",
    "    This is a decorator for a generator function which pauses the generator on yield\n",
    "    until the given widget attribute changes. The new value of the attribute is\n",
    "    sent to the generator and is the value of the yield.\n",
    "    \"\"\"\n",
    "    def f(iterator):\n",
    "        @wraps(iterator)\n",
    "        def inner(*args):\n",
    "            i = iterator(*args)\n",
    "            def next_i(change):\n",
    "                try:\n",
    "                    print('clicked')\n",
    "                    to_do = i.send(change)\n",
    "                    print(to_do)\n",
    "                except StopIteration as e:\n",
    "                    widget.unobserve(next_i)\n",
    "            widget.on_click(next_i)\n",
    "            # start the generator\n",
    "            next(i)\n",
    "            print('starting')\n",
    "        return inner\n",
    "    return f"
   ]
  },
  {
   "cell_type": "code",
   "execution_count": 7,
   "metadata": {
    "code_folding": [
     2,
     44,
     53,
     70,
     80
    ],
    "collapsed": true,
    "extensions": {
     "jupyter_dashboards": {
      "version": 1,
      "views": {
       "grid_default": {
        "hidden": true
       },
       "report_default": {
        "hidden": true
       }
      }
     }
    }
   },
   "outputs": [],
   "source": [
    "from aipython.utilities import Displayable\n",
    "        \n",
    "class Con_solver(Displayable):\n",
    "    def __init__(self, csp, domains=None):\n",
    "        super(Con_solver, self).__init__()\n",
    "        self.csp=csp\n",
    "        if domains is not None:\n",
    "            self.domains = domains\n",
    "        else:\n",
    "            self.domains = csp.domains.copy()\n",
    "        self.max_display_level = 4\n",
    "\n",
    "    def __repr__(self):\n",
    "        return str(self.domains)\n",
    "        \n",
    "    def make_arc_consistent(self,to_do=None):\n",
    "        \"\"\"Makes this CSP arc-consistent using generalized arc consistency\n",
    "        to_do is a set of (variable,constraint) pairs\n",
    "        \"\"\"\n",
    "        if to_do is None:\n",
    "            to_do = {(var,const) for const in self.csp.constraints\n",
    "                             for var in const.scope}\n",
    "        else:\n",
    "            to_do = to_do.copy()  # use a copy of to_do\n",
    "        while to_do:\n",
    "            var,const = self.choose_arc(to_do)\n",
    "            self.display(3,\"Processing arc (\",var,\",\",const,\")\")\n",
    "            other_vars = [ov for ov in const.scope if ov is not var]\n",
    "            new_domain = {val for val in self.domains[var]\n",
    "                                  if self.any_holds(const,{var:val},other_vars,0)}\n",
    "            if new_domain != self.domains[var]:\n",
    "                self.display(4,\"Arc: (\",var,\",\",const,\") is inconsistent\")\n",
    "                self.display(3,\"Domain pruned\",\"dom(\",var,\") =\",new_domain,\" due to \",const)\n",
    "                self.domains[var] = new_domain\n",
    "                add_to_do = self.new_to_do(var,const)\n",
    "                to_do |= add_to_do      # set union\n",
    "                self.display(3,\"  adding\",add_to_do if add_to_do else \"nothing\", \"to to_do.\")\n",
    "            self.display(4,\"Arc: (\",var,\",\",const,\") now consistent\")\n",
    "        self.display(2,\"AC done. Reduced domains\",self.domains)\n",
    "\n",
    "    def choose_arc(self, to_do):\n",
    "        #return to_do.pop()\n",
    "        return self.wait_for_arc_selection(to_do)\n",
    "    \n",
    "    def new_to_do(self,var,const):\n",
    "         \"\"\"returns new elements to be added to to_do after assigning\n",
    "         variable var in constraint const.\n",
    "         \"\"\"\n",
    "         return {(nvar,nconst) for nconst in self.csp.var_to_const[var]\n",
    "                               if nconst != const\n",
    "                               for nvar in nconst.scope\n",
    "                               if nvar != var}\n",
    "\n",
    "    def any_holds(self,const,env,other_vars,ind):\n",
    "        \"\"\"returns True if Constraint const holds for an assignment\n",
    "        that extends env with the variables in other_vars[ind:]\n",
    "        env is a dictionary\n",
    "        Warning: this has side effects and changes the elements of env\n",
    "        \"\"\"\n",
    "        if ind==len(other_vars):\n",
    "            return const.holds(env)\n",
    "        else:\n",
    "            var = other_vars[ind]\n",
    "            for val in self.domains[var]:\n",
    "                #env = dict_union(env,{var:val})  # no side effects!\n",
    "                env[var] = val\n",
    "                if self.any_holds(const,env,other_vars,ind+1):\n",
    "                    return True\n",
    "            return False\n",
    "\n",
    "    def copy_with_assign(self, var=None, new_domain={True,False}):\n",
    "        \"\"\"create a copy of the CSP with an assignment var=new_domain\n",
    "        if var==None then it is just a copy.\n",
    "        \"\"\"\n",
    "        newdoms = self.domains.copy()\n",
    "        if var:\n",
    "            newdoms[var] = new_domain\n",
    "        return Con_solver(self.csp,newdoms)\n",
    "\n",
    "\n",
    "    def solve_one(self,to_do=None):\n",
    "        \"\"\"return a solution to the current CSP or False if there are no solutions\n",
    "        to_do is the list of arcs to check\n",
    "        \"\"\"\n",
    "        self.make_arc_consistent(to_do)\n",
    "        if any(len(self.domains[var])==0 for var in self.domains):\n",
    "            return False\n",
    "        elif all(len(self.domains[var])==1 for var in self.domains):\n",
    "            self.display(2,\"solution:\", {var:select(self.domains[var])  for var in self.domains})\n",
    "            return {var:select(self.domains[var])  for var in self.domains}\n",
    "        else:\n",
    "            var = select(x for x in self.csp.variables if len(self.domains[x])>1)\n",
    "            if var:\n",
    "                split = len(self.domains[var])//2\n",
    "                dom1 = set(list(self.domains[var])[:split]) #a nonempty proper subset\n",
    "                csp1 = self.copy_with_assign(var,dom1) # copy with dom(var)=dom1\n",
    "                dom2 = self.domains[var]-dom1\n",
    "                csp2 = self.copy_with_assign(var,dom2) # copy with dom(var)=dom2\n",
    "                self.display(3,\"...splitting\",var,\"into\",dom1,\"and\",dom2)\n",
    "                to_do = self.new_to_do(var,None)\n",
    "                return csp1.solve_one(to_do) or csp2.solve_one(to_do) \n",
    "            "
   ]
  },
  {
   "cell_type": "code",
   "execution_count": 8,
   "metadata": {
    "extensions": {
     "jupyter_dashboards": {
      "version": 1,
      "views": {
       "grid_default": {
        "col": 8,
        "height": 20,
        "hidden": false,
        "row": 0,
        "width": null
       },
       "report_default": {
        "hidden": false
       }
      }
     }
    }
   },
   "outputs": [
    {
     "data": {
      "application/vnd.jupyter.widget-view+json": {
       "model_id": "279c30bcf0294dc0828df3dda4c4a6e0"
      }
     },
     "metadata": {},
     "output_type": "display_data"
    },
    {
     "data": {
      "application/vnd.jupyter.widget-view+json": {
       "model_id": "c68d18ef00d64971a64bb09a9debb100"
      }
     },
     "metadata": {},
     "output_type": "display_data"
    }
   ],
   "source": [
    "import aispace\n",
    "\n",
    "from aipython.cspExamples import csp1, csp2, crossword1\n",
    "csp1.domains['A'] = set([1,3])\n",
    "\n",
    "csp = aispace.CSPViewer(csp2)\n",
    "csp.sleep_time = 0.1\n",
    "csp"
   ]
  },
  {
   "cell_type": "code",
   "execution_count": 6,
   "metadata": {},
   "outputs": [
    {
     "data": {
      "application/vnd.jupyter.widget-view+json": {
       "model_id": "c854ef8163a845659194a772a46d9bbc"
      }
     },
     "metadata": {},
     "output_type": "display_data"
    },
    {
     "data": {
      "application/vnd.jupyter.widget-view+json": {
       "model_id": "f4d6ab7d946c433eae098b99bf65e419"
      }
     },
     "metadata": {},
     "output_type": "display_data"
    }
   ],
   "source": [
    "import aispace\n",
    "\n",
    "from aipython.cspExamples import csp1, csp2, crossword1\n",
    "aispace.CSPViewer(csp2)"
   ]
  }
 ],
 "metadata": {
  "extensions": {
   "jupyter_dashboards": {
    "activeView": "report_default",
    "version": 1,
    "views": {
     "grid_default": {
      "cellMargin": 10,
      "defaultCellHeight": 20,
      "maxColumns": 12,
      "name": "grid",
      "type": "grid"
     },
     "report_default": {
      "name": "report",
      "type": "report"
     }
    }
   }
  },
  "kernelspec": {
   "display_name": "Python 3",
   "language": "python",
   "name": "python3"
  },
  "language_info": {
   "codemirror_mode": {
    "name": "ipython",
    "version": 3
   },
   "file_extension": ".py",
   "mimetype": "text/x-python",
   "name": "python",
   "nbconvert_exporter": "python",
   "pygments_lexer": "ipython3",
   "version": "3.6.1"
  }
 },
 "nbformat": 4,
 "nbformat_minor": 2
}
