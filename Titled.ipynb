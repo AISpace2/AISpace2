{
 "cells": [
  {
   "cell_type": "markdown",
   "metadata": {
    "extensions": {
     "jupyter_dashboards": {
      "version": 1,
      "views": {
       "grid_default": {
        "col": 4,
        "height": 4,
        "hidden": false,
        "row": 0,
        "width": 4
       },
       "report_default": {
        "hidden": false
       }
      }
     }
    }
   },
   "source": [
    "# Solving CSPs with Arc Consistency\n",
    "\n",
    "A more advanced technique for solving Constraint Satisfaction Problems (CSPs) is to use _arc consistency_ to prune domains first. In the best case, this will find a unique solution; otherwise, we can perform domain splitting or use search on the simpler problem.\n",
    "\n",
    "The bulk of the work is done by the `make_arc_consistent` function below. This maintains a set `to_do` of arcs that may be inconsistent, and in each iteration, makes a selected arc consistent. This may cause other arcs to be (re)added to the `to_do` set, but eventually the algorithm will terminate."
   ]
  },
  {
   "cell_type": "code",
   "execution_count": null,
   "metadata": {
    "code_folding": [
     37,
     45,
     90
    ],
    "collapsed": true,
    "extensions": {
     "jupyter_dashboards": {
      "version": 1,
      "views": {
       "grid_default": {
        "hidden": true
       },
       "report_default": {
        "hidden": false
       }
      }
     }
    }
   },
   "outputs": [],
   "source": [
    "from aipython.utilities import Displayable\n",
    "\n",
    "class Con_solver(Displayable):\n",
    "    def __init__(self, csp, visualizer=None):\n",
    "        self.csp = csp\n",
    "        self.visualizer = visualizer\n",
    "        \n",
    "    def make_arc_consistent(self, domains, to_do=None):\n",
    "        \"\"\"Makes this CSP arc-consistent using generalized arc consistency\n",
    "        to_do is a set of (variable,constraint) pairs\n",
    "        \"\"\"\n",
    "        if to_do is None:\n",
    "            to_do = {(var,const) for const in self.csp.constraints\n",
    "                             for var in const.scope}\n",
    "        else:\n",
    "            to_do = to_do.copy()  # use a copy of to_do\n",
    "        while to_do:\n",
    "            var,const = self.choose_arc(to_do)\n",
    "            self.display(3,\"Processing arc (\",var,\",\",const,\")\")\n",
    "            other_vars = [ov for ov in const.scope if ov is not var]\n",
    "            new_domain = {val for val in domains[var]\n",
    "                                  if self.any_holds(domains,const,{var:val},other_vars,0)}\n",
    "            if new_domain != domains[var]:\n",
    "                self.display(4,\"Arc: (\",var,\",\",const,\") is inconsistent\")\n",
    "                self.display(3,\"Domain pruned\",\"dom(\",var,\") =\",new_domain,\" due to \",const)\n",
    "                domains[var] = new_domain\n",
    "                add_to_do = self.new_to_do(var,const)\n",
    "                to_do |= add_to_do      # set union\n",
    "                self.display(3,\"  adding\",add_to_do if add_to_do else \"nothing\", \"to to_do.\")\n",
    "            self.display(4,\"Arc: (\",var,\",\",const,\") now consistent\")\n",
    "        self.display(2,\"AC done. Reduced domains\",domains)\n",
    "\n",
    "    def choose_arc(self, to_do):\n",
    "        \"\"\"Selects the arc to be taken from the to_do list.\n",
    "        \n",
    "        to_do list should be directly modified, or the algorithm will not terminate.\"\"\"\n",
    "        # return to_do.pop() # Default implementation\n",
    "        return self.visualizer.wait_for_arc_selection(to_do)\n",
    "    \n",
    "    def new_to_do(self,var,const):\n",
    "        \"\"\"returns new elements to be added to to_do after assigning\n",
    "        variable var in constraint const.\n",
    "        \"\"\"\n",
    "        return {(nvar,nconst) for nconst in self.csp.var_to_const[var]\n",
    "                               if nconst != const\n",
    "                               for nvar in nconst.scope\n",
    "                               if nvar != var}\n",
    "    def any_holds(self,domains,const,env,other_vars,ind):\n",
    "        \"\"\"returns True if Constraint const holds for an assignment\n",
    "        that extends env with the variables in other_vars[ind:]\n",
    "        env is a dictionary\n",
    "        Warning: this has side effects and changes the elements of env\n",
    "        \"\"\"\n",
    "        if ind==len(other_vars):\n",
    "            return const.holds(env)\n",
    "        else:\n",
    "            var = other_vars[ind]\n",
    "            for val in domains[var]:\n",
    "                #env = dict_union(env,{var:val})  # no side effects!\n",
    "                env[var] = val\n",
    "                if self.any_holds(domains,const,env,other_vars,ind+1):\n",
    "                    return True\n",
    "            return False\n",
    "    def copy_with_assign(self, domains, var=None, new_domain={True,False}):\n",
    "        \"\"\"create a copy of the CSP with an assignment var=new_domain\n",
    "        if var==None then it is just a copy.\n",
    "        \"\"\"\n",
    "        newdoms = domains.copy()\n",
    "        if var:\n",
    "            newdoms[var] = new_domain\n",
    "        return newdoms\n",
    "    def solve_one(self,domains, to_do=None):\n",
    "        \"\"\"return a solution to the current CSP or False if there are no solutions\n",
    "        to_do is the list of arcs to check\n",
    "        \"\"\"\n",
    "        self.make_arc_consistent(domains, to_do)\n",
    "        if any(len(domains[var])==0 for var in domains):\n",
    "            return []\n",
    "        elif all(len(domains[var])==1 for var in domains):\n",
    "            self.display(2,\"solution:\", {var:select(domains[var]) for var in domains})\n",
    "            return [{var:select(domains[var])  for var in domains}]\n",
    "        else:\n",
    "            var = select(x for x in self.csp.variables if len(domains[x])>1)\n",
    "            if var:\n",
    "                split = len(domains[var])//2\n",
    "                dom1 = set(list(domains[var])[:split]) #a nonempty proper subset\n",
    "                new_dom1 = self.copy_with_assign(domains,var,dom1) # copy with dom(var)=dom1\n",
    "                dom2 = domains[var]-dom1\n",
    "                new_dom2 = self.copy_with_assign(domains,var,dom2) # copy with dom(var)=dom2\n",
    "                self.display(3,\"...splitting\",var,\"into\",dom1,\"and\",dom2)\n",
    "                to_do = self.new_to_do(var,None)\n",
    "                return self.solve_one(new_dom1, to_do) + self.solve_one(new_dom2,to_do)\n",
    "def select(iterable):\n",
    "    \"\"\"select an element of iterable. Returns None if there is no such element.\n",
    "\n",
    "    This implementation just picks the first element.\n",
    "    For many of the uses, which element is selected does not affect correctness, \n",
    "    but may affect efficiency.\n",
    "    \"\"\"\n",
    "    for e in iterable:\n",
    "        return e    #returns first element found"
   ]
  },
  {
   "cell_type": "markdown",
   "metadata": {
    "extensions": {
     "jupyter_dashboards": {
      "version": 1,
      "views": {
       "grid_default": {
        "col": 0,
        "height": 4,
        "hidden": false,
        "row": 20,
        "width": 12
       },
       "report_default": {
        "hidden": false
       }
      }
     }
    }
   },
   "source": [
    "Below we present the visualization for arc consistency. There are several pre-made CSPs in `cspExamples.py` that you may try. You can click on an arc to run `make_arc_consistent()` on that selection, or choose \"Fine Step\", \"Step\", or \"Auto Arc-Consistency\" to randomly select an arc to make consistent. Note that the order in which arcs are selected does not affect the final result — the reduced domains are the same regardless of the order the arcs are made consistent."
   ]
  },
  {
   "cell_type": "code",
   "execution_count": null,
   "metadata": {
    "extensions": {
     "jupyter_dashboards": {
      "version": 1,
      "views": {
       "grid_default": {
        "col": 8,
        "height": 20,
        "hidden": false,
        "row": 0,
        "width": null
       },
       "report_default": {
        "hidden": false
       }
      }
     }
    }
   },
   "outputs": [],
   "source": [
    "import aispace\n",
    "\n",
    "\n",
    "from aipython.cspExamples import csp1, csp2, crossword1, crossword2\n",
    "#csp1.domains['A'] = set([1,3])\n",
    "\n",
    "csp = aispace.CSPViewer(csp1)\n",
    "csp.sleep_time = 0.1\n",
    "csp.line_width = 20\n",
    "csp"
   ]
  },
  {
   "cell_type": "code",
   "execution_count": null,
   "metadata": {},
   "outputs": [],
   "source": [
    "csp"
   ]
  },
  {
   "cell_type": "markdown",
   "metadata": {},
   "source": [
    "**Exercise 4.2** Implement of `solve_all` that is like `solve_one` but returns the set of all solution."
   ]
  },
  {
   "cell_type": "code",
   "execution_count": null,
   "metadata": {
    "collapsed": true,
    "extensions": {
     "jupyter_dashboards": {
      "version": 1,
      "views": {
       "grid_default": {
        "hidden": true
       },
       "report_default": {
        "hidden": true
       }
      }
     }
    },
    "scrolled": false
   },
   "outputs": [],
   "source": [
    "import aispace\n",
    "\n",
    "from aipython.cspExamples import csp1, csp2, crossword1\n",
    "csp2 = aispace.CSPViewer(csp1)\n",
    "csp2.line_width = 20\n",
    "csp2.sleep_time = 0.1\n",
    "csp2"
   ]
  }
 ],
 "metadata": {
  "celltoolbar": "Raw Cell Format",
  "extensions": {
   "jupyter_dashboards": {
    "activeView": "report_default",
    "version": 1,
    "views": {
     "grid_default": {
      "cellMargin": 10,
      "defaultCellHeight": 20,
      "maxColumns": 12,
      "name": "grid",
      "type": "grid"
     },
     "report_default": {
      "name": "report",
      "type": "report"
     }
    }
   }
  },
  "kernelspec": {
   "display_name": "Python 3",
   "language": "python",
   "name": "python3"
  },
  "language_info": {
   "codemirror_mode": {
    "name": "ipython",
    "version": 3
   },
   "file_extension": ".py",
   "mimetype": "text/x-python",
   "name": "python",
   "nbconvert_exporter": "python",
   "pygments_lexer": "ipython3",
   "version": "3.6.1"
  }
 },
 "nbformat": 4,
 "nbformat_minor": 2
}
