{
 "cells": [
  {
   "cell_type": "code",
   "execution_count": 7,
   "metadata": {},
   "outputs": [
    {
     "name": "stdout",
     "output_type": "stream",
     "text": [
      "{'name': 'outputs', 'old': [], 'new': ['hello Bob'], 'owner': <__main__.UnmodifiableClass object at 0x10e856588>, 'type': 'change'}\n",
      "{'name': 'outputs', 'old': [], 'new': ['bye Bob'], 'owner': <__main__.CalledFromUnmodifiableClass object at 0x10e856080>, 'type': 'change'}\n",
      "{'name': 'outputs', 'old': ['hello Bob'], 'new': ['hello Bob', 'hello Bill'], 'owner': <__main__.UnmodifiableClass object at 0x10e856588>, 'type': 'change'}\n",
      "{'name': 'outputs', 'old': ['bye Bob'], 'new': ['bye Bob', 'bye Bill'], 'owner': <__main__.CalledFromUnmodifiableClass object at 0x10e856080>, 'type': 'change'}\n"
     ]
    }
   ],
   "source": [
    "import ipywidgets as widgets\n",
    "from traitlets import HasTraits, List, Unicode, observe\n",
    "\n",
    "class Display(HasTraits):\n",
    "    outputs = List(Unicode())\n",
    "    \n",
    "    def custom_display(self, output):\n",
    "        new_outputs = self.outputs[:] + [output]\n",
    "        self.outputs = new_outputs\n",
    "        \n",
    "#     @observe('outputs')\n",
    "#     def _observe_outputs(self, change):\n",
    "#         print(change)\n",
    "\n",
    "            \n",
    "class UnmodifiableClass(Display):\n",
    "    def __init__(self):\n",
    "        super().__init__()\n",
    "        self.cls = CalledFromUnmodifiableClass()\n",
    "    # Functions will call customDisplay here\n",
    "    def say_hello(self, name):\n",
    "        self.custom_display('hello {}'.format(name))\n",
    "        self.cls.say_bye(name)\n",
    "\n",
    "class CalledFromUnmodifiableClass(Display):\n",
    "    def say_bye(self, name):\n",
    "        self.custom_display('bye {}'.format(name))\n",
    "        \n",
    "class JupyterWidget(widgets.Widget):\n",
    "    # Some _module and _view properties here...\n",
    "    def __init__(self):\n",
    "        self.unmodifiable = UnmodifiableClass() # Wraps this class\n",
    "        self.unmodifiable.observe(self._observe, ['outputs'])\n",
    "        self.unmodifiable.cls.observe(self._observe, ['outputs'])\n",
    "    \n",
    "    def _observe(self, change):\n",
    "        print(change)\n",
    "        \n",
    "    def activate_widget(self):\n",
    "        self.unmodifiable.say_hello('Bob')\n",
    "        self.unmodifiable.say_hello('Bill')\n",
    "\n",
    "j = JupyterWidget()\n",
    "j.activate_widget()"
   ]
  }
 ],
 "metadata": {
  "kernelspec": {
   "display_name": "Python 3",
   "language": "python",
   "name": "python3"
  },
  "language_info": {
   "codemirror_mode": {
    "name": "ipython",
    "version": 3
   },
   "file_extension": ".py",
   "mimetype": "text/x-python",
   "name": "python",
   "nbconvert_exporter": "python",
   "pygments_lexer": "ipython3",
   "version": "3.6.1"
  }
 },
 "nbformat": 4,
 "nbformat_minor": 2
}
