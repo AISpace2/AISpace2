{
 "cells": [
  {
   "cell_type": "code",
   "execution_count": null,
   "metadata": {
    "collapsed": true
   },
   "outputs": [],
   "source": [
    "from aipython.searchProblem import Path\n",
    "from aipython.searchAStar import Frontier\n",
    "from aispace.jupyter.search import Displayable\n",
    "\n",
    "class Searcher(Displayable):\n",
    "    \"\"\"returns a searcher for a problem.\n",
    "    Paths can be found by repeatedly calling search().\n",
    "    \"\"\"\n",
    "\n",
    "    def __init__(self, problem, method='astar'):\n",
    "        \"\"\"creates a searcher from a problem\n",
    "        method is 'astar' or 'best-first' or 'lowest-cost-first'\n",
    "        \"\"\"\n",
    "        self.problem = problem\n",
    "        self.method = method  # not used\n",
    "        self.frontier = Frontier()\n",
    "        self.num_expanded = 0\n",
    "        for node in problem.start_nodes():\n",
    "            self.add_to_frontier(Path(node))\n",
    "        self.display(3,\"Frontier:\",self.frontier)\n",
    "        super().__init__()\n",
    "    \n",
    "    def add_to_frontier(self,path):\n",
    "        \"\"\"add path to the frontier with the appropriate cost\"\"\"\n",
    "        if self.method=='astar':\n",
    "            value = path.cost+self.problem.heuristic(path.end())\n",
    "        else:\n",
    "            assert False, \"unknown method \"+str(self.method)\n",
    "        self.frontier.add(path, value)\n",
    "\n",
    "    def search(self):\n",
    "        \"\"\"returns (next) path from an element of problem's start nodes\n",
    "        to a goal node. \n",
    "        Returns None if no path exists.\n",
    "        \"\"\"\n",
    "        while not self.frontier.empty():\n",
    "            path = self.frontier.pop()\n",
    "            self.display(2, \"Expanding:\",path,\"(cost:\",path.cost,\")\")\n",
    "            self.num_expanded += 1\n",
    "            if self.problem.is_goal(path.end()):    # solution found\n",
    "                self.display(1, self.num_expanded, \"paths have been expanded and\",\n",
    "                            len(self.frontier.frontierpq), \"nodes remain in the frontier\")\n",
    "                self.solution = path   # store the solution found\n",
    "                return path\n",
    "            else:\n",
    "                neighs = self.problem.neighbors(path.end())\n",
    "                for arc in neighs:\n",
    "                    self.add_to_frontier(Path(path,arc))\n",
    "                self.display(3,\"Frontier:\",self.frontier)\n",
    "        self.display(1,\"No (more) solutions. Total of\",\n",
    "                     self.frontier.frontier_index,\"paths expanded.\")"
   ]
  },
  {
   "cell_type": "code",
   "execution_count": null,
   "metadata": {},
   "outputs": [],
   "source": [
    "from aipython.searchProblem import problem1, problem2, acyclic_delivery_problem\n",
    "\n",
    "s = Searcher(problem1, method='astar')\n",
    "s"
   ]
  },
  {
   "cell_type": "code",
   "execution_count": null,
   "metadata": {
    "collapsed": true
   },
   "outputs": [],
   "source": [
    "s.search()"
   ]
  }
 ],
 "metadata": {
  "kernelspec": {
   "display_name": "Python 3",
   "language": "python",
   "name": "python3"
  },
  "language_info": {
   "codemirror_mode": {
    "name": "ipython",
    "version": 3
   },
   "file_extension": ".py",
   "mimetype": "text/x-python",
   "name": "python",
   "nbconvert_exporter": "python",
   "pygments_lexer": "ipython3",
   "version": "3.6.1"
  }
 },
 "nbformat": 4,
 "nbformat_minor": 2
}
