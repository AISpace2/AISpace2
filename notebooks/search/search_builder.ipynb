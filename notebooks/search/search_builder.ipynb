{
 "cells": [
  {
   "cell_type": "markdown",
   "metadata": {},
   "source": [
    "# Building a Search Graph\n",
    "This notebook helps to construct a search graph visually. You can export this graph and run various search algorithms on it afterwards.\n",
    "\n",
    "You can set the cost of edges, change the names of nodes, and set start and goal nodes."
   ]
  },
  {
   "cell_type": "code",
   "execution_count": null,
   "metadata": {},
   "outputs": [],
   "source": [
    "from aispace2.jupyter.search import SearchBuilder\n",
    "from aipython.searchProblem import search_empty, search_simple1, search_simple2, search_edgeless, search_cyclic_delivery, search_acyclic_delivery\n",
    "\n",
    "builder = SearchBuilder(search_empty)\n",
    "builder.text_size = 15\n",
    "builder"
   ]
  },
  {
   "cell_type": "markdown",
   "metadata": {},
   "source": [
    "## Exporting the Search Graph\n",
    "\n",
    "The builder exposes two methods that lets you retrieve the search graph you have created above:\n",
    "\n",
    "- `search_problem()`, which returns an instance of `Search_problem_from_explicit_graph`.\n",
    "- `py_code()`, which generates Python code that, once run, constructs an instance of `Search_problem_from_explicit_graph`."
   ]
  },
  {
   "cell_type": "code",
   "execution_count": null,
   "metadata": {
    "collapsed": true
   },
   "outputs": [],
   "source": [
    "builder.search_problem()"
   ]
  },
  {
   "cell_type": "code",
   "execution_count": null,
   "metadata": {
    "collapsed": true
   },
   "outputs": [],
   "source": [
    "builder.py_code()"
   ]
  },
  {
   "cell_type": "code",
   "execution_count": null,
   "metadata": {
    "collapsed": true
   },
   "outputs": [],
   "source": []
  }
 ],
 "metadata": {
  "kernelspec": {
   "display_name": "Python 3",
   "language": "python",
   "name": "python3"
  },
  "language_info": {
   "codemirror_mode": {
    "name": "ipython",
    "version": 3
   },
   "file_extension": ".py",
   "mimetype": "text/x-python",
   "name": "python",
   "nbconvert_exporter": "python",
   "pygments_lexer": "ipython3",
   "version": "3.6.8"
  }
 },
 "nbformat": 4,
 "nbformat_minor": 2
}
