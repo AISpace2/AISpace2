{
 "cells": [
  {
   "cell_type": "markdown",
   "metadata": {},
   "source": [
    "# Building a Search Graph\n",
    "This notebook demonstrates how you can interactively build a search graph. You can export this graph and run various search algorithms on it afterwards.\n",
    "\n",
    "You can set the cost of edges, change the names of nodes, and set start and goal nodes."
   ]
  },
  {
   "cell_type": "code",
   "execution_count": null,
   "metadata": {
    "collapsed": true
   },
   "outputs": [],
   "source": [
    "from aispace2.jupyter.search import SearchBuilder\n",
    "from aipython.searchProblem import simple_problem1, simple_problem2, edgeless_problem, cyclic_delivery_problem, acyclic_delivery_problem\n",
    "\n",
    "builder = SearchBuilder(simple_problem1)\n",
    "builder"
   ]
  },
  {
   "cell_type": "markdown",
   "metadata": {},
   "source": [
    "## Exporting the Search Graph\n",
    "\n",
    "The builder exposes two methods that lets you retrieve the search graph you have created above:\n",
    "\n",
    "- `search_problem()`, which returns an instance of `Search_problem_from_explicit_graph`\n",
    "- `py_code()`, which generates Python code that, once run, constructs an instance of `Search_problem_from_explicit_graph`"
   ]
  },
  {
   "cell_type": "code",
   "execution_count": null,
   "metadata": {
    "collapsed": true
   },
   "outputs": [],
   "source": [
    "builder.search_problem()"
   ]
  },
  {
   "cell_type": "code",
   "execution_count": null,
   "metadata": {
    "collapsed": true
   },
   "outputs": [],
   "source": [
    "builder.py_code()"
   ]
  },
  {
   "cell_type": "code",
   "execution_count": null,
   "metadata": {
    "collapsed": true
   },
   "outputs": [],
   "source": [
    "from aipython.searchProblem import Search_problem_from_explicit_graph, Arc\n",
    "search_problem = Search_problem_from_explicit_graph({'c', 'b', 'a', 'g', 'd'}, [Arc('a', 'b', cost=1), Arc('a', 'c', cost=3), Arc('b', 'c', cost=1), Arc('b', 'd', cost=3), Arc('c', 'd', cost=1), Arc('c', 'g', cost=3), Arc('d', 'g', cost=1)], 'a', {'g'}, {})"
   ]
  }
 ],
 "metadata": {
  "kernelspec": {
   "display_name": "Python 3",
   "language": "python",
   "name": "python3"
  },
  "language_info": {
   "codemirror_mode": {
    "name": "ipython",
    "version": 3
   },
   "file_extension": ".py",
   "mimetype": "text/x-python",
   "name": "python",
   "nbconvert_exporter": "python",
   "pygments_lexer": "ipython3",
   "version": "3.6.2"
  }
 },
 "nbformat": 4,
 "nbformat_minor": 2
}
