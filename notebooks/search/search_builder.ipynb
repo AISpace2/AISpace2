{
 "cells": [
  {
   "cell_type": "markdown",
   "metadata": {},
   "source": [
    "# Building a Search Graph\n",
    "This notebook helps to construct a search graph visually. You can export this graph and run various search algorithms on it afterwards. You can set the cost of edges, change the names of nodes, and set start and goal nodes.\n",
    "\n",
    "You can run each cell by selecting it and pressing *Ctrl+Enter* in Windows or *Shift+Return* in Mac. Alternatively, you can click the *Play* button in the toolbar, to the left of the stop button. For more information, check out our AISpace2 [Tutorial](https://aispace2.github.io/AISpace2/tutorial.html).\n",
    "\n",
    "You need to run the following command to import our pre-defined problems."
   ]
  },
  {
   "cell_type": "code",
   "execution_count": 1,
   "metadata": {},
   "outputs": [],
   "source": [
    "# Run this to import pre-defined problems\n",
    "from aipython.searchProblem import search_empty, search_simple1, search_simple2, search_edgeless, search_cyclic_delivery, search_acyclic_delivery"
   ]
  },
  {
   "cell_type": "code",
   "execution_count": 2,
   "metadata": {},
   "outputs": [
    {
     "data": {
      "application/vnd.jupyter.widget-view+json": {
       "model_id": "a2827d1d3b13487ca2a0dfeebd55332e",
       "version_major": 2,
       "version_minor": 0
      },
      "text/plain": [
       "SearchBuilder(graph=a --> b.  b --> c.  b --> d.  d --> e.  d --> g.  a --> h.  h --> j.  , text_size=15)"
      ]
     },
     "metadata": {},
     "output_type": "display_data"
    }
   ],
   "source": [
    "from aispace2.jupyter.search import SearchBuilder\n",
    "\n",
    "builder = SearchBuilder(search_simple2)\n",
    "builder.text_size = 15\n",
    "builder"
   ]
  },
  {
   "cell_type": "markdown",
   "metadata": {},
   "source": [
    "## Exporting the Search Graph\n",
    "\n",
    "The builder exposes two methods that lets you retrieve the search graph you have created above:\n",
    "\n",
    "- `search_problem()`, which returns an instance of `Search_problem_from_explicit_graph`.\n",
    "- `py_code()`, which generates Python code that, once run, constructs an instance of `Search_problem_from_explicit_graph`."
   ]
  },
  {
   "cell_type": "code",
   "execution_count": 3,
   "metadata": {
    "collapsed": true
   },
   "outputs": [
    {
     "data": {
      "text/plain": [
       "a --> b.  b --> c.  b --> d.  d --> e.  d --> g.  a --> h.  h --> j.  "
      ]
     },
     "execution_count": 3,
     "metadata": {},
     "output_type": "execute_result"
    }
   ],
   "source": [
    "builder.search_problem()"
   ]
  },
  {
   "cell_type": "code",
   "execution_count": 4,
   "metadata": {
    "collapsed": true
   },
   "outputs": [
    {
     "data": {
      "text/plain": [
       "\"from aipython.searchProblem import Search_problem_from_explicit_graph, Arc\\nsearch_problem = Search_problem_from_explicit_graph({'b', 'e', 'a', 'j', 'g', 'h', 'c', 'd'}, [Arc('a', 'b', cost=1), Arc('b', 'c', cost=3), Arc('b', 'd', cost=1), Arc('d', 'e', cost=3), Arc('d', 'g', cost=1), Arc('a', 'h', cost=3), Arc('h', 'j', cost=1)], 'a', {'g'}, {})\""
      ]
     },
     "execution_count": 4,
     "metadata": {},
     "output_type": "execute_result"
    }
   ],
   "source": [
    "builder.py_code()"
   ]
  },
  {
   "cell_type": "code",
   "execution_count": null,
   "metadata": {
    "collapsed": true
   },
   "outputs": [],
   "source": []
  },
  {
   "cell_type": "code",
   "execution_count": null,
   "metadata": {},
   "outputs": [],
   "source": []
  }
 ],
 "metadata": {
  "kernelspec": {
   "display_name": "Python 3",
   "language": "python",
   "name": "python3"
  },
  "language_info": {
   "codemirror_mode": {
    "name": "ipython",
    "version": 3
   },
   "file_extension": ".py",
   "mimetype": "text/x-python",
   "name": "python",
   "nbconvert_exporter": "python",
   "pygments_lexer": "ipython3",
   "version": "3.6.5"
  }
 },
 "nbformat": 4,
 "nbformat_minor": 2
}
