{
 "cells": [
  {
   "cell_type": "markdown",
   "metadata": {},
   "source": [
    "# Building a Search Graph\n",
    "This notebook demonstrates how you can interactively build a search graph. You can export this graph and run various search algorithms on it afterwards.\n",
    "\n",
    "You can set the cost of edges, change the names of nodes, and set start and goal nodes."
   ]
  },
  {
   "cell_type": "code",
   "execution_count": null,
   "metadata": {},
   "outputs": [],
   "source": [
    "from aispace2.searchbuilder import SearchBuilder\n",
    "from aipython.searchProblem import problem1, problem2, acyclic_delivery_problem\n",
    "\n",
    "builder = SearchBuilder(problem1)\n",
    "builder"
   ]
  },
  {
   "cell_type": "markdown",
   "metadata": {},
   "source": [
    "## Exporting the Search Graph\n",
    "\n",
    "The builder exposes two methods that lets you retrieve the search graph you have created above:\n",
    "\n",
    "- `search_problem()`, which returns an instance of `Search_problem_from_explicit_graph`\n",
    "- `py_code()`, which generates Python code that, once run, constructs an instance of `Search_problem_from_explicit_graph`"
   ]
  },
  {
   "cell_type": "code",
   "execution_count": null,
   "metadata": {},
   "outputs": [],
   "source": [
    "builder.search_problem()"
   ]
  },
  {
   "cell_type": "code",
   "execution_count": null,
   "metadata": {},
   "outputs": [],
   "source": [
    "builder.py_code()"
   ]
  }
 ],
 "metadata": {
  "kernelspec": {
   "display_name": "Python 3",
   "language": "python",
   "name": "python3"
  },
  "language_info": {
   "codemirror_mode": {
    "name": "ipython",
    "version": 3
   },
   "file_extension": ".py",
   "mimetype": "text/x-python",
   "name": "python",
   "nbconvert_exporter": "python",
   "pygments_lexer": "ipython3",
   "version": "3.6.1"
  }
 },
 "nbformat": 4,
 "nbformat_minor": 2
}
