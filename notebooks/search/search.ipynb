{
 "cells": [
  {
   "cell_type": "markdown",
   "metadata": {},
   "source": [
    "# 3. Search"
   ]
  },
  {
   "cell_type": "markdown",
   "metadata": {},
   "source": [
    "## 3.2 A\\* and Related Searchers\n",
    "To solve a search problem, we can construct a `Searcher` object for the problem and then repeatedly ask for the next path using search. If there are no more paths, `None` is returned."
   ]
  },
  {
   "cell_type": "code",
   "execution_count": null,
   "metadata": {
    "collapsed": true
   },
   "outputs": [],
   "source": [
    "from aipython.searchProblem import Path\n",
    "from aipython.searchGeneric import Frontier\n",
    "from aispace2.jupyter.search import Displayable, visualize\n",
    "\n",
    "\n",
    "class Searcher(Displayable):\n",
    "    \"\"\"returns a searcher for a problem.\n",
    "    Paths can be found by repeatedly calling search().\n",
    "    This does depth-first search unless overridden\n",
    "    \"\"\"\n",
    "\n",
    "    def __init__(self, problem):\n",
    "        \"\"\"creates a searcher from a problem\n",
    "        \"\"\"\n",
    "        self.problem = problem\n",
    "        self.initialize_frontier()\n",
    "        self.num_expanded = 0\n",
    "        self.add_to_frontier(Path(problem.start_node()))\n",
    "        # self.display(3,\"Frontier:\",self.frontier)\n",
    "        super().__init__()\n",
    "\n",
    "    def initialize_frontier(self):\n",
    "        self.frontier = []\n",
    "\n",
    "    def empty_frontier(self):\n",
    "        return self.frontier == []\n",
    "\n",
    "    def add_to_frontier(self, path):\n",
    "        self.frontier.append(path)\n",
    "\n",
    "    @visualize\n",
    "    def search(self):\n",
    "        \"\"\"returns (next) path from the problem's start node\n",
    "        to a goal node. \n",
    "        Returns None if no path exists.\n",
    "        \"\"\"\n",
    "        while not self.empty_frontier():\n",
    "            path = self.frontier.pop()\n",
    "            self.display(2, \"Expanding: \", path, \"(cost:\", path.cost, \")\")\n",
    "            self.num_expanded += 1\n",
    "            if self.problem.is_goal(path.end()):    # solution found\n",
    "                self.display(1, self.num_expanded, \"paths have been expanded and\",\n",
    "                             len(self.frontier), \"paths remain in the frontier\")\n",
    "                self.solution = path   # store the solution found\n",
    "                return path\n",
    "            else:\n",
    "                neighs = self.problem.neighbors(path.end())\n",
    "                self.display(3, \"Neighbors are\", neighs)\n",
    "                for arc in neighs:\n",
    "                    self.add_to_frontier(Path(path, arc))\n",
    "                self.display(3, \"Frontier:\", self.frontier)\n",
    "        self.display(1, \"No (more) solutions. Total of\",\n",
    "                     self.num_expanded, \"paths expanded.\")\n",
    "\n",
    "\n",
    "class AStarSearcher(Searcher):\n",
    "    \"\"\"returns a searcher for a problem.\n",
    "    Paths can be found by repeatedly calling search().\n",
    "    \"\"\"\n",
    "\n",
    "    def __init__(self, problem):\n",
    "        super().__init__(problem)\n",
    "\n",
    "    def initialize_frontier(self):\n",
    "        self.frontier = Frontier()\n",
    "\n",
    "    def empty_frontier(self):\n",
    "        return self.frontier.empty()\n",
    "\n",
    "    def add_to_frontier(self, path):\n",
    "        \"\"\"add path to the frontier with the appropriate cost\"\"\"\n",
    "        value = path.cost + self.problem.heuristic(path.end())\n",
    "        self.frontier.add(path, value)"
   ]
  },
  {
   "cell_type": "markdown",
   "metadata": {},
   "source": [
    "### A\\* Visualization\n",
    "We first construct an instance of `AStarSearcher` and display it. Then, in the next cell, we call `search()` on the `Searcher` in order to request the next path. Once we find a solution, we can call `search()` again to find other solutions, if any."
   ]
  },
  {
   "cell_type": "code",
   "execution_count": null,
   "metadata": {
    "collapsed": true
   },
   "outputs": [],
   "source": [
    "from aipython.searchProblem import problem1, problem2, acyclic_delivery_problem\n",
    "from IPython.display import display\n",
    "\n",
    "s = AStarSearcher(acyclic_delivery_problem)\n",
    "s.sleep_time = 0.2\n",
    "s.show_edge_costs = True\n",
    "s.show_node_heuristics = True\n",
    "display(s)"
   ]
  },
  {
   "cell_type": "code",
   "execution_count": null,
   "metadata": {
    "collapsed": true
   },
   "outputs": [],
   "source": [
    "s.search()"
   ]
  },
  {
   "cell_type": "markdown",
   "metadata": {},
   "source": [
    "### A\\* Search with Multiple Path Pruning\n",
    "\n",
    "We can cut down on the number of paths we explore if we check to see if we have already visited before. By keeping a `explored` set, and only expanding the path if it isn't in `explored`, we can implement multiple path pruning. This is done below by overriding the `search` method.\n",
    "\n",
    "Compare no pruning and multiple path pruning for the `cyclic_delivery_problem`. Which works better in terms of number of paths expanded, computational time or space?"
   ]
  },
  {
   "cell_type": "code",
   "execution_count": null,
   "metadata": {
    "collapsed": true
   },
   "outputs": [],
   "source": [
    "from aipython.searchProblem import Path\n",
    "from aispace2.jupyter.search import Displayable, visualize\n",
    "\n",
    "\n",
    "class SearcherMPP(AStarSearcher):\n",
    "    \"\"\"returns a searcher for a problem.\n",
    "    Paths can be found by repeatedly calling search().\n",
    "    \"\"\"\n",
    "\n",
    "    def __init__(self, problem):\n",
    "        super().__init__(problem)\n",
    "        self.explored = set()\n",
    "\n",
    "    @visualize\n",
    "    def search(self):\n",
    "        \"\"\"returns next path from an element of problem's start nodes\n",
    "        to a goal node. \n",
    "        Returns None if no path exists.\n",
    "        \"\"\"\n",
    "        while not self.empty_frontier():\n",
    "            path = self.frontier.pop()\n",
    "            if path.end() not in self.explored:\n",
    "                self.display(2, \"Expanding: \", path, \"(cost:\", path.cost, \")\")\n",
    "                self.explored.add(path.end())\n",
    "                self.num_expanded += 1\n",
    "                if self.problem.is_goal(path.end()):\n",
    "                    self.display(1, self.num_expanded, \"paths have been expanded and\",\n",
    "                                 len(self.frontier), \"paths remain in the frontier\")\n",
    "                    self.solution = path   # store the solution found\n",
    "                    return path\n",
    "                else:\n",
    "                    neighs = self.problem.neighbors(path.end())\n",
    "                    for arc in neighs:\n",
    "                        self.add_to_frontier(Path(path, arc))\n",
    "                    self.display(3, \"Frontier:\", self.frontier)\n",
    "        self.display(1, \"No (more) solutions. Total of\",\n",
    "                     self.num_expanded, \"paths expanded.\")"
   ]
  },
  {
   "cell_type": "code",
   "execution_count": null,
   "metadata": {
    "collapsed": true
   },
   "outputs": [],
   "source": [
    "from aipython.searchProblem import problem1, problem2, acyclic_delivery_problem\n",
    "from IPython.display import display\n",
    "\n",
    "s_mpp = SearcherMPP(problem2)\n",
    "s_mpp.sleep_time = 0.2\n",
    "display(s_mpp)"
   ]
  },
  {
   "cell_type": "code",
   "execution_count": null,
   "metadata": {
    "collapsed": true
   },
   "outputs": [],
   "source": [
    "s_mpp.search()"
   ]
  },
  {
   "cell_type": "markdown",
   "metadata": {},
   "source": [
    "## 3.3 Branch-and-bound Search\n",
    "This uses depth- first search to find a path to a goal that extends path with cost less than the bound. Once a path to a goal has been found, that path is remembered as the best path, the bound is reduced, and the search continues."
   ]
  },
  {
   "cell_type": "code",
   "execution_count": null,
   "metadata": {
    "collapsed": true
   },
   "outputs": [],
   "source": [
    "from aipython.searchProblem import Path\n",
    "from aispace2.jupyter.search import Displayable, visualize\n",
    "\n",
    "\n",
    "class DF_branch_and_bound(Searcher):\n",
    "    \"\"\"returns a branch and bound searcher for a problem.    \n",
    "    An optimal path with cost less than bound can be found by calling search()\n",
    "    \"\"\"\n",
    "\n",
    "    def __init__(self, problem, bound=float(\"inf\")):\n",
    "        \"\"\"creates a searcher than can be used with search() to find an optimal path.\n",
    "        bound gives the initial bound. By default this is infinite - meaning there\n",
    "        is no initial pruning due to depth bound\n",
    "        \"\"\"\n",
    "        super().__init__(problem)\n",
    "        self.best_path = None\n",
    "        self.bound = bound\n",
    "\n",
    "    @visualize\n",
    "    def search(self):\n",
    "        \"\"\"returns an optimal solution to a problem with cost less than bound.\n",
    "        returns None if there is no solution with cost less than bound.\"\"\"\n",
    "        self.frontier = [Path(self.problem.start_node())]\n",
    "        self.num_expanded = 0\n",
    "        while self.frontier:\n",
    "            path = self.frontier.pop()\n",
    "            if path.cost + self.problem.heuristic(path.end()) < self.bound:\n",
    "                self.display(3, \"Expanding: \", path, \"cost:\", path.cost)\n",
    "                self.num_expanded += 1\n",
    "                if self.problem.is_goal(path.end()):\n",
    "                    self.best_path = path\n",
    "                    self.bound = path.cost\n",
    "                    self.display(2, \"New best path:\",\n",
    "                                 path, \" cost:\", path.cost)\n",
    "                for arc in reversed(list(self.problem.neighbors(path.end()))):\n",
    "                    self.add_to_frontier(Path(path, arc))\n",
    "        self.display(1, \"Number of paths expanded:\", self.num_expanded)\n",
    "        self.solution = self.best_path\n",
    "        return self.best_path"
   ]
  },
  {
   "cell_type": "code",
   "execution_count": null,
   "metadata": {
    "collapsed": true
   },
   "outputs": [],
   "source": [
    "from aipython.searchProblem import problem1, problem2, acyclic_delivery_problem\n",
    "from IPython.display import display\n",
    "\n",
    "s_dfbb = DF_branch_and_bound(problem2)\n",
    "s_dfbb.sleep_time = 0.2\n",
    "display(s_dfbb)"
   ]
  },
  {
   "cell_type": "code",
   "execution_count": null,
   "metadata": {
    "collapsed": true
   },
   "outputs": [],
   "source": [
    "s_dfbb.search()"
   ]
  }
 ],
 "metadata": {
  "kernelspec": {
   "display_name": "Python 3",
   "language": "python",
   "name": "python3"
  },
  "language_info": {
   "codemirror_mode": {
    "name": "ipython",
    "version": 3
   },
   "file_extension": ".py",
   "mimetype": "text/x-python",
   "name": "python",
   "nbconvert_exporter": "python",
   "pygments_lexer": "ipython3",
   "version": "3.6.2"
  }
 },
 "nbformat": 4,
 "nbformat_minor": 2
}
