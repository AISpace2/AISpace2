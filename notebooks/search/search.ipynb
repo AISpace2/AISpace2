{
 "cells": [
  {
   "cell_type": "markdown",
   "metadata": {},
   "source": [
    "# [3. Searching for Solutions](http://artint.info/2e/html/ArtInt2e.Ch3.html)\n",
    "\n",
    "## About\n",
    "This chapter casts the problem of an agent deciding how to solve a goal as the problem of searching to find a path in a graph.\n",
    "\n",
    "## Instructions\n",
    "\n",
    "Each section header contains a link to the corresponding chapter in the accompanying textbook, and an \"Implementation Details\" link provided throughout tells you how the implementation works. Before using this notebook, make sure you have followed the [installation instructions](https://aispace2.github.io/AISpace2/install.html) beforehand.\n",
    "\n",
    "You can run each cell by selecting it and pressing *Ctrl+Enter*. Alternatively, you can click the *Play* button in the toolbar, to the left of the stop button. \n",
    "\n",
    "For more information, including how the code in this notebook differs from that in [AIPython](aipython.org), check out the [Reference](https://aispace2.github.io/AISpace2/reference.html)."
   ]
  },
  {
   "cell_type": "markdown",
   "metadata": {},
   "source": [
    "## [3.5.2 Depth-First Search](http://artint.info/2e/html/ArtInt2e.Ch3.S5.SS2.html)\n",
    "\n",
    "- [Implementation Details](http://artint.info/AIPython/aipython.pdf#page=39) (page 39)\n",
    "\n",
    "In depth-first search, the frontier acts like a LIFO (last-in, first-out) stack of paths. Using a stack means that the path selected and removed from the frontier at any time is the last path that was added. Depth-first search is appropriate when space is restricted, or when there are many solutions. On the other hand, depth-first search is not appropriate if it is possible to get stuck into infinite paths or if solutions exist at shallow depths."
   ]
  },
  {
   "cell_type": "code",
   "execution_count": null,
   "metadata": {
    "collapsed": true
   },
   "outputs": [],
   "source": [
    "from aipython.searchProblem import Path\n",
    "from aipython.searchGeneric import Frontier\n",
    "from aispace2.jupyter.search import Displayable, visualize\n",
    "\n",
    "class Searcher(Displayable):\n",
    "    \"\"\"returns a searcher for a problem.\n",
    "    Paths can be found by repeatedly calling search().\n",
    "    This does depth-first search unless overridden\n",
    "    \"\"\"\n",
    "    def __init__(self, problem):\n",
    "        \"\"\"creates a searcher from a problem\n",
    "        \"\"\"\n",
    "        self.problem = problem\n",
    "        self.initialize_frontier()\n",
    "        self.num_expanded = 0\n",
    "        self.add_to_frontier(Path(problem.start_node()))\n",
    "        super().__init__()\n",
    "\n",
    "    def initialize_frontier(self):\n",
    "        self.frontier = []\n",
    "        \n",
    "    def empty_frontier(self):\n",
    "        return self.frontier == []\n",
    "        \n",
    "    def add_to_frontier(self,path):\n",
    "        self.frontier.append(path)\n",
    "        \n",
    "    @visualize\n",
    "    def search(self):\n",
    "        \"\"\"returns (next) path from the problem's start node\n",
    "        to a goal node. \n",
    "        Returns None if no path exists.\n",
    "        \"\"\"\n",
    "        while not self.empty_frontier():\n",
    "            path = self.frontier.pop()\n",
    "            self.display(2, \"Expanding:\",path,\"(cost:\",path.cost,\")\")\n",
    "            self.num_expanded += 1\n",
    "            if self.problem.is_goal(path.end()):    # solution found\n",
    "                self.display(1, self.num_expanded, \"paths have been expanded and\",\n",
    "                            len(self.frontier), \"paths remain in the frontier\")\n",
    "                self.solution = path   # store the solution found\n",
    "                return path\n",
    "            else:\n",
    "                neighs = self.problem.neighbors(path.end())\n",
    "                self.display(3,\"Neighbors are\", neighs)\n",
    "                for arc in reversed(neighs):\n",
    "                    self.add_to_frontier(Path(path,arc))\n",
    "                self.display(3,\"Frontier:\",self.frontier)\n",
    "        self.display(1,\"No (more) solutions. Total of\",\n",
    "                     self.num_expanded,\"paths expanded.\")\n"
   ]
  },
  {
   "cell_type": "code",
   "execution_count": null,
   "metadata": {
    "collapsed": true
   },
   "outputs": [],
   "source": [
    "from aipython.searchProblem import simple_problem1, simple_problem2, edgeless_problem, cyclic_delivery_problem, acyclic_delivery_problem\n",
    "from IPython.display import display\n",
    "\n",
    "s = Searcher(simple_problem1)\n",
    "s.sleep_time = 0.2\n",
    "s.show_edge_costs = False\n",
    "s.text_size = 15\n",
    "s.search()\n",
    "display(s)"
   ]
  },
  {
   "cell_type": "markdown",
   "metadata": {},
   "source": [
    "**Note**: Run the method below to find _additional_ solutions. You should _not_ run this until you have already finished finding a solution because it will cause the state of the frontier to be indeterminate. You will know when you have found a solution when the output says \"n paths have been expanded\"."
   ]
  },
  {
   "cell_type": "code",
   "execution_count": null,
   "metadata": {
    "collapsed": true
   },
   "outputs": [],
   "source": [
    "s.search()"
   ]
  },
  {
   "cell_type": "markdown",
   "metadata": {},
   "source": [
    "## [3.6.1 A\\* Search](http://artint.info/2e/html/ArtInt2e.Ch3.S6.SS1.html)\n",
    "- [Implementation Details](http://artint.info/AIPython/aipython.pdf#page=41) (page 41)\n",
    "\n",
    "A\\* search uses both path cost and heuristic information in its selection of which path to expand. For each path on the frontier, A\\* uses an estimate of the total path cost from the start node to a goal node constrained to follow that path initially. The estimated total path cost is the sum of the cost of the path found and the heuristic function $h(p)$, which estimates the cost from the end of $p$ to the goal."
   ]
  },
  {
   "cell_type": "code",
   "execution_count": null,
   "metadata": {
    "collapsed": true
   },
   "outputs": [],
   "source": [
    "class AStarSearcher(Searcher):\n",
    "    \"\"\"returns a searcher for a problem.\n",
    "    Paths can be found by repeatedly calling search().\n",
    "    \"\"\"\n",
    "\n",
    "    def __init__(self, problem):\n",
    "        super().__init__(problem)\n",
    "\n",
    "    def initialize_frontier(self):\n",
    "        self.frontier = Frontier()\n",
    "\n",
    "    def empty_frontier(self):\n",
    "        return self.frontier.empty()\n",
    "\n",
    "    def add_to_frontier(self, path):\n",
    "        \"\"\"add path to the frontier with the appropriate cost\"\"\"\n",
    "        value = path.cost + self.problem.heuristic(path.end())\n",
    "        self.frontier.add(path, value)"
   ]
  },
  {
   "cell_type": "code",
   "execution_count": null,
   "metadata": {
    "collapsed": true
   },
   "outputs": [],
   "source": [
    "from aipython.searchProblem import simple_problem1, simple_problem2, edgeless_problem, cyclic_delivery_problem, acyclic_delivery_problem\n",
    "from IPython.display import display\n",
    "\n",
    "s_astar = AStarSearcher(acyclic_delivery_problem)\n",
    "s_astar.sleep_time = 0.2\n",
    "s_astar.show_edge_costs = True\n",
    "s_astar.show_node_heuristics = False\n",
    "s_astar.text_size = 15\n",
    "s_astar.search()\n",
    "display(s_astar)"
   ]
  },
  {
   "cell_type": "markdown",
   "metadata": {},
   "source": [
    "**Note**: Run the method below to find _additional_ solutions. You should _not_ run this until you have already finished finding a solution because it will cause the state of the frontier to be indeterminate. You will know when you have found a solution when the output says \"n paths have been expanded\"."
   ]
  },
  {
   "cell_type": "code",
   "execution_count": null,
   "metadata": {
    "collapsed": true
   },
   "outputs": [],
   "source": [
    "s_astar.search()"
   ]
  },
  {
   "cell_type": "markdown",
   "metadata": {},
   "source": [
    "## [3.7.2 A\\* Search with Multiple Path Pruning](http://artint.info/2e/html/ArtInt2e.Ch3.S7.SS2.html)\n",
    "- [Implementation Details](http://artint.info/AIPython/aipython.pdf#page=43) (page 43)\n",
    "\n",
    "There is often more than one path to a node. If only one path is required, a search algorithm can prune from the frontier any path that leads to a node to which it has already found a path. Multiple-path pruning is implemented by maintaining an explored set (traditionally called closed list) of nodes that are at the end of paths that have been expanded. The explored set is initially empty. When a path $⟨n_0,…,n_k⟩$ is selected , if $n_k$ is already in the explored set, the path can be discarded. Otherwise, $n_k$ is added to the explored set, and the algorithm proceeds as before."
   ]
  },
  {
   "cell_type": "code",
   "execution_count": null,
   "metadata": {
    "collapsed": true
   },
   "outputs": [],
   "source": [
    "from aipython.searchProblem import Path\n",
    "from aispace2.jupyter.search import Displayable, visualize\n",
    "\n",
    "\n",
    "class SearcherMPP(AStarSearcher):\n",
    "    \"\"\"returns a searcher for a problem.\n",
    "    Paths can be found by repeatedly calling search().\n",
    "    \"\"\"\n",
    "    def __init__(self, problem):\n",
    "        super().__init__(problem)\n",
    "        self.explored = set()\n",
    "\n",
    "    @visualize\n",
    "    def search(self):\n",
    "        \"\"\"returns next path from an element of problem's start nodes\n",
    "        to a goal node. \n",
    "        Returns None if no path exists.\n",
    "        \"\"\"\n",
    "        while not self.empty_frontier():\n",
    "            path = self.frontier.pop()\n",
    "            if path.end() not in self.explored:\n",
    "                self.display(2, \"Expanding:\",path,\"(cost:\",path.cost,\")\")\n",
    "                self.explored.add(path.end())\n",
    "                self.num_expanded += 1\n",
    "                if self.problem.is_goal(path.end()):\n",
    "                    self.display(1, self.num_expanded, \"paths have been expanded and\",\n",
    "                            len(self.frontier), \"paths remain in the frontier\")\n",
    "                    self.solution = path   # store the solution found\n",
    "                    return path\n",
    "                else:\n",
    "                    neighs = self.problem.neighbors(path.end())\n",
    "                    self.display(3,\"Neighbors are\", neighs)\n",
    "                    for arc in neighs:\n",
    "                        self.add_to_frontier(Path(path,arc))\n",
    "                    self.display(3,\"Frontier:\",self.frontier)\n",
    "        self.display(1,\"No (more) solutions. Total of\",\n",
    "                     self.num_expanded,\"paths expanded.\")"
   ]
  },
  {
   "cell_type": "code",
   "execution_count": null,
   "metadata": {
    "collapsed": true
   },
   "outputs": [],
   "source": [
    "from aipython.searchProblem import simple_problem1, simple_problem2, edgeless_problem, cyclic_delivery_problem, acyclic_delivery_problem\n",
    "from IPython.display import display\n",
    "\n",
    "s_mpp = SearcherMPP(simple_problem2)\n",
    "s_mpp.sleep_time = 0.2\n",
    "s_mpp.text_size = 15\n",
    "s_mpp.search()\n",
    "display(s_mpp)"
   ]
  },
  {
   "cell_type": "markdown",
   "metadata": {},
   "source": [
    "**Note**: Run the method below to find _additional_ solutions. You should _not_ run this until you have already finished finding a solution because it will cause the state of the frontier to be indeterminate. You will know when you have found a solution when the output says \"n paths have been expanded\"."
   ]
  },
  {
   "cell_type": "code",
   "execution_count": null,
   "metadata": {
    "collapsed": true
   },
   "outputs": [],
   "source": [
    "s_mpp.search()"
   ]
  },
  {
   "cell_type": "markdown",
   "metadata": {},
   "source": [
    "## [3.8.1 Branch-and-bound Search](http://artint.info/2e/html/ArtInt2e.Ch3.S8.SS1.html)\n",
    "- [Implementation Details](http://artint.info/AIPython/aipython.pdf#page=44) (page 44)\n",
    "\n",
    "Depth-first branch-and-bound search is a way to combine the space saving of depth-first search with heuristic information for finding optimal paths. It is particularly applicable when there are many paths to a goal. As in A\\* search, the heuristic function h$⁢(n)$ is non-negative and less than or equal to the cost of a lowest-cost path from n to a goal node.\n",
    "\n",
    "The idea of a branch-and-bound search is to maintain the lowest-cost path to a goal found so far, and its cost. Suppose this cost is $\\text{b⁢o⁢u⁢n⁢d}$. If the search encounters a path $p$ such that $\\text{c⁢o⁢s⁢t}⁢(p)+h⁢(p)≥\\text{b⁢o⁢u⁢n⁢d}$, path $p$ can be pruned. If a non-pruned path to a goal is found, it must be better than the previous best path. This new solution is remembered and b⁢o⁢u⁢n⁢d is set to the cost of this new solution. The searcher then proceeds to search for a better solution.\n"
   ]
  },
  {
   "cell_type": "code",
   "execution_count": null,
   "metadata": {
    "collapsed": true
   },
   "outputs": [],
   "source": [
    "from aipython.searchProblem import Path\n",
    "from aispace2.jupyter.search import Displayable, visualize\n",
    "\n",
    "\n",
    "class DF_branch_and_bound(Searcher):\n",
    "    \"\"\"returns a branch and bound searcher for a problem.    \n",
    "    An optimal path with cost less than bound can be found by calling search()\n",
    "    \"\"\"\n",
    "    def __init__(self, problem, bound=float(\"inf\")):\n",
    "        \"\"\"creates a searcher than can be used with search() to find an optimal path.\n",
    "        bound gives the initial bound. By default this is infinite - meaning there\n",
    "        is no initial pruning due to depth bound\n",
    "        \"\"\"\n",
    "        super().__init__(problem)\n",
    "        self.best_path = None\n",
    "        self.bound = bound\n",
    "\n",
    "    @visualize\n",
    "    def search(self):\n",
    "        \"\"\"returns an optimal solution to a problem with cost less than bound.\n",
    "        returns None if there is no solution with cost less than bound.\"\"\"\n",
    "        self.frontier = [Path(self.problem.start_node())]\n",
    "        self.num_expanded = 0\n",
    "        while self.frontier:\n",
    "            path = self.frontier.pop()\n",
    "            if path.cost+self.problem.heuristic(path.end()) < self.bound:\n",
    "                self.display(3,\"Expanding:\",path,\"cost:\",path.cost)\n",
    "                self.num_expanded += 1\n",
    "                if self.problem.is_goal(path.end()):\n",
    "                    self.best_path = path\n",
    "                    self.bound = path.cost\n",
    "                    self.display(2,\"New best path:\",path,\" cost:\",path.cost)\n",
    "                    return\n",
    "                neighs = self.problem.neighbors(path.end())\n",
    "                self.display(3,\"Neighbors are\", neighs)\n",
    "                for arc in reversed(list(neighs)):\n",
    "                    self.add_to_frontier(Path(path, arc))\n",
    "                self.display(3,\"Frontier:\",self.frontier)\n",
    "        self.display(1,\"Number of paths expanded:\",self.num_expanded)\n",
    "        self.solution = self.best_path\n",
    "        return self.best_path"
   ]
  },
  {
   "cell_type": "code",
   "execution_count": null,
   "metadata": {
    "collapsed": true
   },
   "outputs": [],
   "source": [
    "from aipython.searchProblem import simple_problem1, simple_problem2, edgeless_problem, cyclic_delivery_problem, acyclic_delivery_problem\n",
    "from IPython.display import display\n",
    "\n",
    "s_dfbb = DF_branch_and_bound(simple_problem2)\n",
    "s_dfbb.sleep_time = 0.2\n",
    "s_dfbb.text_size = 15\n",
    "s_dfbb.search()\n",
    "display(s_dfbb)"
   ]
  },
  {
   "cell_type": "markdown",
   "metadata": {},
   "source": [
    "**Note**: Run the method below to find _additional_ solutions. You should _not_ run this until you have already finished finding a solution because it will cause the state of the frontier to be indeterminate. You will know when you have found a solution when the output says \"n paths have been expanded\"."
   ]
  },
  {
   "cell_type": "code",
   "execution_count": null,
   "metadata": {
    "collapsed": true
   },
   "outputs": [],
   "source": [
    "s_dfbb.search()"
   ]
  }
 ],
 "metadata": {
  "kernelspec": {
   "display_name": "Python 3",
   "language": "python",
   "name": "python3"
  },
  "language_info": {
   "codemirror_mode": {
    "name": "ipython",
    "version": 3
   },
   "file_extension": ".py",
   "mimetype": "text/x-python",
   "name": "python",
   "nbconvert_exporter": "python",
   "pygments_lexer": "ipython3",
   "version": "3.6.2"
  }
 },
 "nbformat": 4,
 "nbformat_minor": 2
}
