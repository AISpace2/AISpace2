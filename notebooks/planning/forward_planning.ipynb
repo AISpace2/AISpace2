{
 "cells": [
  {
   "cell_type": "markdown",
   "metadata": {},
   "source": [
    "# [6.2 Forward Planning](http://artint.info/2e/html/ArtInt2e.Ch6.S2.html)\n",
    "\n",
    "In a forward planner, a node is a state. A state consists of an assignment, which is a variable:value dictionary. In order to be able to do multiple-path pruning, we need to define a hash function, and equality between states."
   ]
  },
  {
   "cell_type": "code",
   "execution_count": null,
   "metadata": {
    "collapsed": true
   },
   "outputs": [],
   "source": [
    "from aipython.searchProblem import Arc, Search_problem\n",
    "from aipython.stripsProblem import Strips, STRIPS_domain\n",
    "from aipython.stripsForwardPlanner import State, zero\n",
    "\n",
    "\n",
    "class Forward_STRIPS(Search_problem):\n",
    "    \"\"\"A search problem from a planning problem where:\n",
    "    * a node is a state object.\n",
    "    * the dynamics are specified by the STRIPS representation of actions\n",
    "    \"\"\"\n",
    "\n",
    "    def __init__(self, planning_problem, heur=zero):\n",
    "        \"\"\"creates a forward seach space from a planning problem.\n",
    "        heur(state,goal) is a heuristic function,\n",
    "           an underestimate of the cost from state to goal, where\n",
    "           both state and goals are feature:value dictionaries.\n",
    "        \"\"\"\n",
    "        self.prob_domain = planning_problem.prob_domain\n",
    "        self.initial_state = State(planning_problem.initial_state)\n",
    "        self.goal = planning_problem.goal\n",
    "        self.heur = heur\n",
    "\n",
    "    def is_goal(self, state):\n",
    "        \"\"\"is True if node is a goal.\n",
    "\n",
    "        Every goal feature has the same value in the state and the goal.\"\"\"\n",
    "        state_asst = state.assignment\n",
    "        return all(prop in state_asst and state_asst[prop] == self.goal[prop]\n",
    "                   for prop in self.goal)\n",
    "\n",
    "    def start_node(self):\n",
    "        \"\"\"returns start node\"\"\"\n",
    "        return self.initial_state\n",
    "\n",
    "    def neighbors(self, state):\n",
    "        \"\"\"returns neighbors of state in this problem\"\"\"\n",
    "        cost = 1\n",
    "        state_asst = state.assignment\n",
    "        return [Arc(state, self.effect(act, state_asst), cost, act)\n",
    "                for act in self.prob_domain.actions\n",
    "                if self.possible(act, state_asst)]\n",
    "\n",
    "    def possible(self, act, state_asst):\n",
    "        \"\"\"True if act is possible in state.\n",
    "        act is possible if all of its preconditions have the same value in the state\"\"\"\n",
    "        preconds = self.prob_domain.strips_map[act].preconditions\n",
    "        return all(pre in state_asst and state_asst[pre] == preconds[pre]\n",
    "                   for pre in preconds)\n",
    "\n",
    "    def effect(self, act, state_asst):\n",
    "        \"\"\"returns the state that is the effect of doing act given state_asst\"\"\"\n",
    "        new_state_asst = self.prob_domain.strips_map[act].effects.copy()\n",
    "        for prop in state_asst:\n",
    "            if prop not in new_state_asst:\n",
    "                new_state_asst[prop] = state_asst[prop]\n",
    "        return State(new_state_asst)\n",
    "\n",
    "    def heuristic(self, state):\n",
    "        \"\"\"in the forward planner a node is a state.\n",
    "        the heuristic is an (under)estimate of the cost\n",
    "        of going from the state to the top-level goal.\n",
    "        \"\"\"\n",
    "        return self.heur(state.assignment, self.goal)"
   ]
  },
  {
   "cell_type": "code",
   "execution_count": null,
   "metadata": {
    "collapsed": true
   },
   "outputs": [],
   "source": [
    "from aipython.stripsProblem import problem0, problem1, problem2, blocks1, blocks2, blocks3\n",
    "from aipython.searchMPP import SearcherMPP\n",
    "from IPython.display import display\n",
    "\n",
    "a = SearcherMPP(Forward_STRIPS(problem0))\n",
    "a.show_edge_costs = False\n",
    "display(a)"
   ]
  },
  {
   "cell_type": "code",
   "execution_count": null,
   "metadata": {
    "collapsed": true
   },
   "outputs": [],
   "source": [
    "a.search()"
   ]
  },
  {
   "cell_type": "markdown",
   "metadata": {},
   "source": [
    "## 6.2.1 Defining Heuristics for a Planner\n",
    "\n",
    "Each planning domain requires its own heuristics. If you change the actions, you will need to reconsider the heuristic function, as there might then be a lower-cost path, which might make the heuristic non-admissible."
   ]
  },
  {
   "cell_type": "code",
   "execution_count": null,
   "metadata": {
    "collapsed": true
   },
   "outputs": [],
   "source": [
    "from aipython.searchMPP import SearcherMPP\n",
    "from aipython.stripsProblem import problem0, problem1, problem2, blocks1, blocks2, blocks3\n",
    "from aipython.stripsHeuristic import heuristic_fun\n",
    "from IPython.display import display\n",
    "\n",
    "h = SearcherMPP(Forward_STRIPS(problem1, heuristic_fun))\n",
    "h.show_node_heuristics = True\n",
    "h.show_edge_costs = False\n",
    "display(h)"
   ]
  },
  {
   "cell_type": "code",
   "execution_count": null,
   "metadata": {
    "collapsed": true
   },
   "outputs": [],
   "source": [
    "h.search()"
   ]
  }
 ],
 "metadata": {
  "kernelspec": {
   "display_name": "Python 3",
   "language": "python",
   "name": "python3"
  },
  "language_info": {
   "codemirror_mode": {
    "name": "ipython",
    "version": 3
   },
   "file_extension": ".py",
   "mimetype": "text/x-python",
   "name": "python",
   "nbconvert_exporter": "python",
   "pygments_lexer": "ipython3",
   "version": "3.6.2"
  }
 },
 "nbformat": 4,
 "nbformat_minor": 2
}
