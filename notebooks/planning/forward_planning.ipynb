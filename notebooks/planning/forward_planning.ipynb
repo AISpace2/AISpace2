{
 "cells": [
  {
   "cell_type": "markdown",
   "metadata": {},
   "source": [
    "# [6.2 Forward Planning](http://artint.info/2e/html/ArtInt2e.Ch6.S2.html)\n",
    "- [Implementation Details](http://artint.info/AIPython/aipython.pdf#page=85) (page 85)\n",
    "\n",
    "## About\n",
    "\n",
    "A forward planner treats the planning problem as a path planning problem in the state-space graph. In a state-space graph, nodes are states, and arcs correspond to actions from one state to another. The arcs coming out of a state correspond to all of the legal actions that can be carried out in that state. A plan is a path from the initial state to a state that satisfies the achievement goal.\n",
    "\n",
    "A forward planner searches the state-space graph from the initial state looking for a state that satisfies a goal description. It can use any of the search strategies we learnt before (see [Chapter 3](https://artint.info/2e/html/ArtInt2e.Ch3.html)).\n",
    "\n",
    "## Instructions\n",
    "\n",
    "Each section header contains a link to the corresponding chapter in the accompanying textbook, and an \"Implementation Details\" link provided throughout tells you how the implementation works. Before using this notebook, make sure you have followed the [installation instructions](https://aispace2.github.io/AISpace2/install.html) beforehand.\n",
    "\n",
    "You can run each cell by selecting it and pressing *Ctrl+Enter* in Windows or *Shift+Return* in Mac. Alternatively, you can click the *Play* button in the toolbar, to the left of the stop button. \n",
    "\n",
    "For more information, including how the code in this notebook differs from that in [AIPython](aipython.org), check out the [Reference](https://aispace2.github.io/AISpace2/reference.html)."
   ]
  },
  {
   "cell_type": "code",
   "execution_count": null,
   "metadata": {},
   "outputs": [],
   "source": [
    "# Run this to import pre-defined problems\n",
    "from aipython.stripsProblem import strips_simple1, strips_simple2, strips_simple3, strips_blocks1, strips_blocks2, strips_blocks3"
   ]
  },
  {
   "cell_type": "code",
   "execution_count": null,
   "metadata": {
    "collapsed": true
   },
   "outputs": [],
   "source": [
    "from aipython.searchMPP import SearcherMPP\n",
    "from aipython.stripsForwardPlanner import Forward_STRIPS\n",
    "s_mpp = SearcherMPP(Forward_STRIPS(strips_simple2))\n",
    "\n",
    "# Visualization options\n",
    "s_mpp.sleep_time = 0.2 # The time, in seconds, between each step in auto solving\n",
    "s_mpp.line_width = 4.0 # The thickness of edges\n",
    "s_mpp.text_size = 15 # The fontsize of the text\n",
    "s_mpp.detail_level = 1 # 0=no text, 1=truncated text, 2=full text\n",
    "s_mpp.show_edge_costs = False\n",
    "s_mpp.layout_method = 'tree'\n",
    "\n",
    "# Display the widget\n",
    "display(s_mpp)\n",
    "s_mpp.search()"
   ]
  },
  {
   "cell_type": "markdown",
   "metadata": {},
   "source": [
    "A heuristic function can also be used with the forward planner."
   ]
  },
  {
   "cell_type": "code",
   "execution_count": null,
   "metadata": {
    "collapsed": true
   },
   "outputs": [],
   "source": [
    "from aipython.searchMPP import SearcherMPP\n",
    "from aipython.stripsForwardPlanner import Forward_STRIPS\n",
    "from aipython.stripsHeuristic import heuristic_fun\n",
    "search_forward = Forward_STRIPS(planning_problem=strips_simple2, heur=heuristic_fun)\n",
    "h_mpp = SearcherMPP(problem=search_forward)\n",
    "\n",
    "# Visualization options\n",
    "h_mpp.sleep_time = 0.2 # The time, in seconds, between each step in auto solving\n",
    "h_mpp.line_width = 4.0 # The thickness of edges\n",
    "h_mpp.text_size = 15 # The fontsize of the text\n",
    "h_mpp.detail_level = 1 # 0=no text, 1=truncated text, 2=full text\n",
    "h_mpp.show_edge_costs = False\n",
    "h_mpp.show_node_heuristics = True\n",
    "h_mpp.layout_method = 'tree'\n",
    "\n",
    "# Display the widget\n",
    "display(h_mpp)\n",
    "h_mpp.search()"
   ]
  }
 ],
 "metadata": {
  "kernelspec": {
   "display_name": "Python 3",
   "language": "python",
   "name": "python3"
  },
  "language_info": {
   "codemirror_mode": {
    "name": "ipython",
    "version": 3
   },
   "file_extension": ".py",
   "mimetype": "text/x-python",
   "name": "python",
   "nbconvert_exporter": "python",
   "pygments_lexer": "ipython3",
   "version": "3.7.3"
  }
 },
 "nbformat": 4,
 "nbformat_minor": 2
}
