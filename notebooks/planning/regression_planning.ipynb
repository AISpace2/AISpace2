{
 "cells": [
  {
   "cell_type": "markdown",
   "metadata": {},
   "source": [
    "# [6.3 Regression Planning](http://artint.info/2e/html/ArtInt2e.Ch6.S3.html)\n",
    "- [Implementation Details](http://artint.info/AIPython/aipython.pdf#page=89) (page 89)\n",
    "\n",
    "## About\n",
    "In a regression planner, a node is a subgoal that need to be achieved. This is different than in a forward planner, where a node is instead state.\n",
    "\n",
    "## Instructions\n",
    "\n",
    "Each section header contains a link to the corresponding chapter in the accompanying textbook, and an \"Implementation Details\" link provided throughout tells you how the implementation works. Before using this notebook, make sure you have followed the [installation instructions](https://aispace2.github.io/AISpace2/install.html) beforehand.\n",
    "\n",
    "You can run each cell by selecting it and pressing *Ctrl+Enter*. Alternatively, you can click the *Play* button in the toolbar, to the left of the stop button. \n",
    "\n",
    "For more information, including how the code in this notebook differs from that in [AIPython](aipython.org), check out the [Reference](https://aispace2.github.io/AISpace2/reference.html)."
   ]
  },
  {
   "cell_type": "code",
   "execution_count": null,
   "metadata": {
    "collapsed": true
   },
   "outputs": [],
   "source": [
    "from aipython.searchProblem import Arc, Search_problem\n",
    "from aipython.searchProblem import Search_problem\n",
    "from aipython.stripsRegressionPlanner import Subgoal\n",
    "\n",
    "\n",
    "class Regression_STRIPS(Search_problem):\n",
    "    \"\"\"A search problem where:\n",
    "    * a node is a goal to be achieved, represented by a set of propositions.\n",
    "    * the dynamics are specified by the STRIPS representation of actions\n",
    "    \"\"\"\n",
    "\n",
    "    def __init__(self, planning_problem, heur=lambda s, g: 0):\n",
    "        \"\"\"creates a regression seach space from a planning problem.\n",
    "        heur(state,goal) is a heuristic function; \n",
    "           an underestimate of the cost from state to goal, where\n",
    "           both state and goals are feature:value dictionaries\n",
    "        \"\"\"\n",
    "        self.prob_domain = planning_problem.prob_domain\n",
    "        self.top_goal = Subgoal(planning_problem.goal)\n",
    "        self.initial_state = planning_problem.initial_state\n",
    "        self.heur = heur\n",
    "\n",
    "    def is_goal(self, subgoal):\n",
    "        \"\"\"if subgoal is true in the initial state, a path has been found\"\"\"\n",
    "        goal_asst = subgoal.assignment\n",
    "        return all((g in self.initial_state) and (self.initial_state[g] == goal_asst[g])\n",
    "                   for g in goal_asst)\n",
    "\n",
    "    def start_node(self):\n",
    "        \"\"\"the start node is the top-level goal\"\"\"\n",
    "        return self.top_goal\n",
    "\n",
    "    def neighbors(self, subgoal):\n",
    "        \"\"\"returns a list of the arcs for the neighbors of subgoal in this problem\"\"\"\n",
    "        cost = 1\n",
    "        goal_asst = subgoal.assignment\n",
    "        return [Arc(subgoal, self.weakest_precond(act, goal_asst), cost, act)\n",
    "                for act in self.prob_domain.actions\n",
    "                if self.possible(act, goal_asst)]\n",
    "\n",
    "    def possible(self, act, goal_asst):\n",
    "        \"\"\"True if act is possible to achieve goal_asst.\n",
    "\n",
    "        the action achieves an element of the effects and\n",
    "        the action doesn't delete something that needs to be achieved and\n",
    "        the precoditions are consistent with other subgoals that need to be achieved\n",
    "        \"\"\"\n",
    "        effects = self.prob_domain.strips_map[act].effects\n",
    "        preconds = self.prob_domain.strips_map[act].preconditions\n",
    "        return (any(goal_asst[prop] == effects[prop]\n",
    "                    for prop in effects if prop in goal_asst)\n",
    "                and all(goal_asst[prop] == effects[prop]\n",
    "                        for prop in effects if prop in goal_asst)\n",
    "                and all(goal_asst[prop] == preconds[prop]\n",
    "                        for prop in preconds if prop not in effects and prop in goal_asst)\n",
    "                )\n",
    "\n",
    "    def weakest_precond(self, act, goal_asst):\n",
    "        \"\"\"returns the subgoal that must be true so goal_asst holds after act\"\"\"\n",
    "        new_asst = self.prob_domain.strips_map[act].preconditions.copy()\n",
    "        for g in goal_asst:\n",
    "            if g not in self.prob_domain.strips_map[act].effects:\n",
    "                new_asst[g] = goal_asst[g]\n",
    "        return Subgoal(new_asst)\n",
    "\n",
    "    def heuristic(self, subgoal):\n",
    "        \"\"\"in the regression planner a node is a subgoal.\n",
    "        the heuristic is an (under)estimate of the cost of going from the initial state to subgoal.\n",
    "        \"\"\"\n",
    "        return self.heur(self.initial_state, subgoal.assignment)"
   ]
  },
  {
   "cell_type": "code",
   "execution_count": null,
   "metadata": {
    "collapsed": true
   },
   "outputs": [],
   "source": [
    "from aipython.searchBranchAndBound import DF_branch_and_bound\n",
    "from aipython.stripsProblem import problem0, simple_problem1, simple_problem2, blocks1, blocks2, blocks3\n",
    "from IPython.display import display\n",
    "\n",
    "\n",
    "d = DF_branch_and_bound(Regression_STRIPS(simple_problem1), 10)\n",
    "d.search()\n",
    "display(d)"
   ]
  },
  {
   "cell_type": "markdown",
   "metadata": {},
   "source": [
    "**Note**: Run the method below to find _additional_ solutions. You should _not_ run this until you have already finished finding a solution because it will cause the state of the frontier to be indeterminate. You will know when you have found a solution when the output says \"n paths have been expanded\"."
   ]
  },
  {
   "cell_type": "code",
   "execution_count": null,
   "metadata": {
    "collapsed": true
   },
   "outputs": [],
   "source": [
    "d.search()"
   ]
  },
  {
   "cell_type": "markdown",
   "metadata": {},
   "source": [
    "The regression planner can also use a heuristic function, just as with the forward planner. However, just because a heuristic is useful for a forward planner does not mean it is useful for a regression planner, and vice versa."
   ]
  },
  {
   "cell_type": "code",
   "execution_count": null,
   "metadata": {
    "collapsed": true
   },
   "outputs": [],
   "source": [
    "from aipython.searchMPP import SearcherMPP\n",
    "from aipython.stripsProblem import problem0, simple_problem1, simple_problem2, blocks1, blocks2, blocks3\n",
    "from aipython.stripsHeuristic import heuristic_fun\n",
    "from IPython.display import display\n",
    "\n",
    "m = SearcherMPP(Regression_STRIPS(simple_problem1, heuristic_fun))\n",
    "m.show_node_heuristics = True\n",
    "m.search()\n",
    "display(m)"
   ]
  },
  {
   "cell_type": "markdown",
   "metadata": {},
   "source": [
    "**Note**: Run the method below to find _additional_ solutions. You should _not_ run this until you have already finished finding a solution because it will cause the state of the frontier to be indeterminate. You will know when you have found a solution when the output says \"n paths have been expanded\"."
   ]
  },
  {
   "cell_type": "code",
   "execution_count": null,
   "metadata": {
    "collapsed": true
   },
   "outputs": [],
   "source": [
    "m.search()"
   ]
  }
 ],
 "metadata": {
  "kernelspec": {
   "display_name": "Python 3",
   "language": "python",
   "name": "python3"
  },
  "language_info": {
   "codemirror_mode": {
    "name": "ipython",
    "version": 3
   },
   "file_extension": ".py",
   "mimetype": "text/x-python",
   "name": "python",
   "nbconvert_exporter": "python",
   "pygments_lexer": "ipython3",
   "version": "3.6.2"
  }
 },
 "nbformat": 4,
 "nbformat_minor": 2
}
