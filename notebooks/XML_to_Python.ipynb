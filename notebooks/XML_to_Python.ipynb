{
 "cells": [
  {
   "cell_type": "markdown",
   "metadata": {},
   "source": [
    "# XML to Python Parsers\n",
    "These parsers are for converting problems from AIspace (XML format) to AISpace2 (Python code).\n",
    "\n",
    "## About\n",
    "Change ```path_to_XML``` to the path to your XML file and run the script. The result is the Python code to construct the corresponding problem."
   ]
  },
  {
   "cell_type": "markdown",
   "metadata": {},
   "source": [
    "## Search Parser"
   ]
  },
  {
   "cell_type": "code",
   "execution_count": null,
   "metadata": {},
   "outputs": [],
   "source": [
    "from aispace2.jupyter.search import XML_to_Python\n",
    "\n",
    "path_to_XML = \"../aispace2/jupyter/search/sampleSearchProblem.xml\"  ## Fill in the Path to your XML file\n",
    "XML_to_Python(path_to_XML)"
   ]
  },
  {
   "cell_type": "markdown",
   "metadata": {},
   "source": [
    "## Belief Network Parser"
   ]
  },
  {
   "cell_type": "code",
   "execution_count": null,
   "metadata": {},
   "outputs": [],
   "source": [
    "from aispace2.jupyter.bayes import XML_to_Python\n",
    "\n",
    "path_to_XML = \"../aispace2/jupyter/bayes/sampleBayesProblem.xml\"  ## Fill in the Path to your XML file\n",
    "XML_to_Python(path_to_XML)"
   ]
  },
  {
   "cell_type": "code",
   "execution_count": null,
   "metadata": {},
   "outputs": [],
   "source": []
  }
 ],
 "metadata": {
  "kernelspec": {
   "display_name": "Python 3",
   "language": "python",
   "name": "python3"
  },
  "language_info": {
   "codemirror_mode": {
    "name": "ipython",
    "version": 3
   },
   "file_extension": ".py",
   "mimetype": "text/x-python",
   "name": "python",
   "nbconvert_exporter": "python",
   "pygments_lexer": "ipython3",
   "version": "3.6.8"
  }
 },
 "nbformat": 4,
 "nbformat_minor": 4
}
