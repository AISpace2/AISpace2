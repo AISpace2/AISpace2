{
 "cells": [
  {
   "cell_type": "markdown",
   "metadata": {},
   "source": [
    "# Check Update\n",
    "The following code prints the your local AISpace2 version and the latest version available on the [website](https://aispace2.github.io/AISpace2/install.html)."
   ]
  },
  {
   "cell_type": "code",
   "execution_count": null,
   "metadata": {},
   "outputs": [],
   "source": [
    "import requests, re\n",
    "from bs4 import BeautifulSoup\n",
    "from aispace2 import __version__\n",
    "\n",
    "req = requests.get(\"https://aispace2.github.io/AISpace2/install.html\")\n",
    "html_info = str(BeautifulSoup(req.content, \"html.parser\").find(id=\"install-current-version\"))\n",
    "new_version = re.findall(\"\\d+\\.\\d+\\.\\d+\", html_info)[0]\n",
    "\n",
    "print(\"Your version: \" + __version__)\n",
    "print(\"Latest version: \" + new_version)"
   ]
  },
  {
   "cell_type": "code",
   "execution_count": null,
   "metadata": {},
   "outputs": [],
   "source": []
  }
 ],
 "metadata": {
  "kernelspec": {
   "display_name": "Python 3",
   "language": "python",
   "name": "python3"
  },
  "language_info": {
   "codemirror_mode": {
    "name": "ipython",
    "version": 3
   },
   "file_extension": ".py",
   "mimetype": "text/x-python",
   "name": "python",
   "nbconvert_exporter": "python",
   "pygments_lexer": "ipython3",
   "version": "3.6.8"
  }
 },
 "nbformat": 4,
 "nbformat_minor": 4
}
