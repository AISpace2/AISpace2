{
 "cells": [
  {
   "cell_type": "markdown",
   "metadata": {},
   "source": [
    "# [4.3 Solving a CSP using Search](http://artint.info/2e/html/ArtInt2e.Ch4.S3.html)\n",
    "- [Implementation Details](http://artint.info/AIPython/aipython.pdf#page=56)\n",
    "\n",
    "## About\n",
    "We can already solve CSPs by using the search methods we learnt before. The search space is partial assignments to the variables in the CSP.\n",
    "\n",
    "For example, imagine a CSP with two variables, $A$ and $B$, and domains $[1,2,3]$ and $[1]$ respectively. We start with the root node, `{}`, and fill in its children at the first level: `{A:1}`, `{A:2}`, and `{A:3}`. Then each of those nodes have another node, merging its own values with the values of the next variable as children: `{A:1, B:1}`, `{A:2, B:1}`, and `{A:3, B:1}`.\n",
    "\n",
    "Because we are interested _if_ there is a solution, rather than the path to the solution (all solutions are the same length), and because the search space is acyclic, we can use depth-first search. As an optimization, before generating the neighboring nodes, we check if those nodes satisfy the constraints; if not, there is no point in going on further, as it will never lead to a solution.\n",
    "\n",
    "## Instructions\n",
    "\n",
    "Each section header contains a link to the corresponding chapter in the accompanying textbook, and an \"Implementation Details\" link provided throughout tells you how the implementation works. Before using this notebook, make sure you have followed the [installation instructions](https://aispace2.github.io/AISpace2/install.html) beforehand.\n",
    "\n",
    "You can run each cell by selecting it and pressing *Ctrl+Enter*. Alternatively, you can click the *Play* button in the toolbar, to the left of the stop button. \n",
    "\n",
    "For more information, including how the code in this notebook differs from that in [AIPython](aipython.org), check out the [Reference](https://aispace2.github.io/AISpace2/reference.html)."
   ]
  },
  {
   "cell_type": "markdown",
   "metadata": {},
   "source": [
    "## Searcher\n",
    "Here is the searching algorithm we will use when solving CSPs with search. Depth-first search is a good choice because we know all solutions will be deep, and that there will be no cycles."
   ]
  },
  {
   "cell_type": "code",
   "execution_count": null,
   "metadata": {
    "collapsed": true
   },
   "outputs": [],
   "source": [
    "from aipython.searchProblem import Path, Arc\n",
    "from aipython.searchGeneric import Frontier\n",
    "from aispace2.jupyter.search import Displayable, visualize\n",
    "\n",
    "class Searcher(Displayable):\n",
    "    \"\"\"returns a searcher for a problem.\n",
    "    Paths can be found by repeatedly calling search().\n",
    "    This does depth-first search unless overridden\n",
    "    \"\"\"\n",
    "    def __init__(self, problem):\n",
    "        \"\"\"creates a searcher from a problem\n",
    "        \"\"\"\n",
    "        self.problem = problem\n",
    "        self.initialize_frontier()\n",
    "        self.num_expanded = 0\n",
    "        self.add_to_frontier(Path(problem.start_node()))\n",
    "        super().__init__()\n",
    "\n",
    "    def initialize_frontier(self):\n",
    "        self.frontier = []\n",
    "        \n",
    "    def empty_frontier(self):\n",
    "        return self.frontier == []\n",
    "        \n",
    "    def add_to_frontier(self,path):\n",
    "        self.frontier.append(path)\n",
    "        \n",
    "    @visualize\n",
    "    def search(self):\n",
    "        \"\"\"returns (next) path from the problem's start node\n",
    "        to a goal node. \n",
    "        Returns None if no path exists.\n",
    "        \"\"\"\n",
    "        while not self.empty_frontier():\n",
    "            path = self.frontier.pop()\n",
    "            self.display(2, \"Expanding:\",path,\"(cost:\",path.cost,\")\")\n",
    "            self.num_expanded += 1\n",
    "            if self.problem.is_goal(path.end()):    # solution found\n",
    "                self.display(1, self.num_expanded, \"paths have been expanded and\",\n",
    "                            len(self.frontier), \"paths remain in the frontier\")\n",
    "                self.solution = path   # store the solution found\n",
    "            else:\n",
    "                neighs = self.problem.neighbors(path.end())\n",
    "                self.display(3,\"Neighbors are\", neighs)\n",
    "                for arc in reversed(neighs):\n",
    "                    self.add_to_frontier(Path(path,arc))\n",
    "                self.display(3,\"Frontier:\",self.frontier)\n",
    "        self.display(1,\"No (more) solutions. Total of\",\n",
    "                     self.num_expanded,\"paths expanded.\")\n",
    "        \n",
    "class DF_branch_and_bound(Searcher):\n",
    "    \"\"\"returns a branch and bound searcher for a problem.    \n",
    "    An optimal path with cost less than bound can be found by calling search()\n",
    "    \"\"\"\n",
    "    def __init__(self, problem, bound=float(\"inf\")):\n",
    "        \"\"\"creates a searcher than can be used with search() to find an optimal path.\n",
    "        bound gives the initial bound. By default this is infinite - meaning there\n",
    "        is no initial pruning due to depth bound\n",
    "        \"\"\"\n",
    "        super().__init__(problem)\n",
    "        self.best_path = None\n",
    "        self.bound = bound\n",
    "\n",
    "    @visualize\n",
    "    def search(self):\n",
    "        \"\"\"returns an optimal solution to a problem with cost less than bound.\n",
    "        returns None if there is no solution with cost less than bound.\"\"\"\n",
    "        self.frontier = [Path(self.problem.start_node())]\n",
    "        self.num_expanded = 0\n",
    "        while self.frontier:\n",
    "            path = self.frontier.pop()\n",
    "            if path.cost+self.problem.heuristic(path.end()) < self.bound:\n",
    "                self.display(3,\"Expanding:\",path,\"cost:\",path.cost)\n",
    "                self.num_expanded += 1\n",
    "                if self.problem.is_goal(path.end()):\n",
    "                    self.best_path = path\n",
    "                    self.bound = path.cost\n",
    "                    self.display(2,\"New best path:\",path,\" cost:\",path.cost)\n",
    "                    return\n",
    "                neighs = self.problem.neighbors(path.end())\n",
    "                self.display(3,\"Neighbors are\", neighs)\n",
    "                for arc in reversed(list(neighs)):\n",
    "                    self.add_to_frontier(Path(path, arc))\n",
    "        self.display(1,\"Number of paths expanded:\",self.num_expanded)\n",
    "        self.solution = self.best_path\n",
    "        return self.best_path"
   ]
  },
  {
   "cell_type": "markdown",
   "metadata": {},
   "source": [
    "## Converting the CSP to a Search problem\n",
    "\n",
    "In order to use search algorithms on our CSP, we must first convert it into a `Search_problem`. We can do this by overriding the `neighbours` and `is_goal` methods. Notice how the neighbouring nodes are discovered on-the-fly."
   ]
  },
  {
   "cell_type": "code",
   "execution_count": null,
   "metadata": {
    "collapsed": true
   },
   "outputs": [],
   "source": [
    "from aipython.searchProblem import Search_problem\n",
    "from aipython.utilities import dict_union\n",
    "\n",
    "class Search_from_CSP(Search_problem):\n",
    "    \"\"\"A search problem directly from the CSP.\n",
    "\n",
    "    A node is a variable:value dictionary\"\"\"\n",
    "    def __init__(self, csp, variable_order=None):\n",
    "        self.csp=csp\n",
    "        if variable_order:\n",
    "            assert set(variable_order) == set(csp.variables)\n",
    "            assert len(variable_order) == len(csp.variables)\n",
    "            self.variables = variable_order\n",
    "        else:\n",
    "            self.variables = list(csp.variables)\n",
    "\n",
    "    def is_goal(self, node):\n",
    "        return len(node)==len(self.csp.variables)\n",
    "    \n",
    "    def start_node(self):\n",
    "        return {}\n",
    "    \n",
    "    def neighbors(self, node):\n",
    "        \"\"\"iterator over the neighboring nodes of node\"\"\"\n",
    "        var = self.variables[len(node)] # the next variable\n",
    "        res = []\n",
    "        for val in self.csp.domains[var]:\n",
    "            new_env = dict_union(node,{var:val})  #dictionary union\n",
    "            if self.csp.consistent(new_env):\n",
    "                res.append(Arc(node,new_env))\n",
    "        return res"
   ]
  },
  {
   "cell_type": "code",
   "execution_count": null,
   "metadata": {
    "scrolled": false
   },
   "outputs": [],
   "source": [
    "from aipython.cspExamples import simple_csp1, simple_csp2, extended_csp, crossword1, crossword2, crossword2d\n",
    "\n",
    "search_csp = DF_branch_and_bound(Search_from_CSP(crossword1))\n",
    "search_csp.show_edge_costs = False\n",
    "search_csp.sleep_time = 0.5\n",
    "# We know the search space is a tree.\n",
    "search_csp.layout_method = \"tree\"\n",
    "search_csp.search()\n",
    "search_csp"
   ]
  },
  {
   "cell_type": "code",
   "execution_count": null,
   "metadata": {
    "collapsed": true
   },
   "outputs": [],
   "source": [
    "search_csp.search()"
   ]
  }
 ],
 "metadata": {
  "kernelspec": {
   "display_name": "Python 3",
   "language": "python",
   "name": "python3"
  },
  "language_info": {
   "codemirror_mode": {
    "name": "ipython",
    "version": 3
   },
   "file_extension": ".py",
   "mimetype": "text/x-python",
   "name": "python",
   "nbconvert_exporter": "python",
   "pygments_lexer": "ipython3",
   "version": "3.6.2"
  }
 },
 "nbformat": 4,
 "nbformat_minor": 2
}
