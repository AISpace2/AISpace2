{
 "cells": [
  {
   "cell_type": "markdown",
   "metadata": {},
   "source": [
    "# [4.7 Solving CSPs using Stochastic Local Search](http://artint.info/2e/html/ArtInt2e.Ch4.S7.html)\n",
    "\n",
    "- [Implementation Details](http://artint.info/AIPython/aipython.pdf#page=63) (page 63)\n",
    "\n",
    "## About\n",
    "\n",
    "For large CSPs, systematically searching through the space of assignments of values to variables will prove unviable. This section considers a method intended to work in these very large spaces, __stochastic local search__. Stochastic local search does not systematically search the whole search space but they are designed to find solutions quickly on average. It does not guarantee that a solution will be found even if one exists, and so it is not able to prove that no solution exists. It is often the method of choice for applications where solutions are known to exist or are very likely to exist.\n",
    "\n",
    "\n",
    "\n",
    "## Instructions\n",
    "\n",
    "Each section header contains a link to the corresponding chapter in the accompanying textbook, and an \"Implementation Details\" link provided throughout tells you how the implementation works. Before using this notebook, make sure you have followed the [installation instructions](https://aispace2.github.io/AISpace2/install.html) beforehand.\n",
    "\n",
    "You can run each cell by selecting it and pressing *Ctrl+Enter* in Windows or *Shift+Return* in Mac. Alternatively, you can click the *Play* button in the toolbar, to the left of the stop button. \n",
    "\n",
    "For more information, including how the code in this notebook differs from that in [AIPython](aipython.org), check out the [Reference](https://aispace2.github.io/AISpace2/reference.html)."
   ]
  },
  {
   "cell_type": "code",
   "execution_count": null,
   "metadata": {},
   "outputs": [],
   "source": [
    "# Run this to import pre-defined problems\n",
    "from aipython.cspProblem import csp_simple1, csp_simple2, csp_extended, csp_crossword1, csp_crossword2, csp_crossword2d"
   ]
  },
  {
   "cell_type": "code",
   "execution_count": null,
   "metadata": {
    "collapsed": true
   },
   "outputs": [],
   "source": [
    "from aipython.cspSLS import SLSearcher\n",
    "sls = SLSearcher(csp=csp_simple1)\n",
    "sls.csp_id = 'sls' # For button layout, 'sls'=stochastic local seach, 'con'=arc consistency\n",
    "\n",
    "# Visualization options\n",
    "sls.sleep_time = 0.2 # The time, in seconds, between each step in auto solving\n",
    "sls.line_width = 4.0 # The thickness of edges\n",
    "sls.text_size = 15 # The fontsize of the text\n",
    "sls.detail_level = 1 # 0=no text, 1=truncated text, 2=full text\n",
    "\n",
    "# Display the widget\n",
    "display(sls)\n",
    "sls.search(max_steps=500, prob_best=0, prob_anycon=1.0)\n",
    "\"\"\"\n",
    "prob_best is the probability of selecting a best variable (one involving the most conflicts)\n",
    "prob_anycon is the probability that the any-conflict strategy is used,\n",
    "    which selects a variable at random that is in a conflict, \n",
    "    assuming that it is not picking a best variable\n",
    "\"\"\""
   ]
  },
  {
   "cell_type": "markdown",
   "metadata": {},
   "source": [
    "# Plotting Runtime Distributions\n",
    "- [Implementation Details](http://artint.info/AIPython/aipython.pdf#page=69) (page 69)\n",
    "\n",
    "Due to the stochastic nature of local search, multiple runs over the same problem will yield different results. Instead, we look at the runtime distribution - the number of runs that find a solution within a given number of steps."
   ]
  },
  {
   "cell_type": "code",
   "execution_count": null,
   "metadata": {
    "collapsed": true
   },
   "outputs": [],
   "source": [
    "from aipython.cspSLSPlot import Runtime_distribution\n",
    "p = Runtime_distribution(csp=csp_extended, xscale='log') # xscale is either 'linear' or 'log'\n",
    "p.plot_run(num_runs=100, max_steps=1000, prob_best=0, prob_anycon=1.0)\n",
    "p.plot_run(num_runs=100, max_steps=1000, prob_best=0.7, prob_anycon=1.0)"
   ]
  },
  {
   "cell_type": "code",
   "execution_count": null,
   "metadata": {},
   "outputs": [],
   "source": []
  }
 ],
 "metadata": {
  "kernelspec": {
   "display_name": "Python 3",
   "language": "python",
   "name": "python3"
  },
  "language_info": {
   "codemirror_mode": {
    "name": "ipython",
    "version": 3
   },
   "file_extension": ".py",
   "mimetype": "text/x-python",
   "name": "python",
   "nbconvert_exporter": "python",
   "pygments_lexer": "ipython3",
   "version": "3.7.3"
  }
 },
 "nbformat": 4,
 "nbformat_minor": 2
}
