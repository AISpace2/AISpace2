{
 "cells": [
  {
   "cell_type": "markdown",
   "metadata": {},
   "source": [
    "# Building a CSP\n",
    "This notebook helps to construct a CSP visually. You can export the CSP and run various CSP algorithms on it afterwards. You can create new nodes and edges, remove existing ones, and change the names and domains of variable nodes. Right now we only support numerical domains.\n",
    "\n",
    "You can run each cell by selecting it and pressing *Ctrl+Enter* in Windows or *Shift+Return* in Mac. Alternatively, you can click the *Play* button in the toolbar, to the left of the stop button. For more information, check out our AISpace2 [Tutorial](https://aispace2.github.io/AISpace2/tutorial.html).\n",
    "\n",
    "You need to run the following command to import our pre-defined problems."
   ]
  },
  {
   "cell_type": "code",
   "execution_count": 1,
   "metadata": {},
   "outputs": [],
   "source": [
    "# Run this to import pre-defined problems\n",
    "from aipython.cspProblem import csp_empty, csp_simple1, csp_simple2, csp_extended, csp_crossword1, csp_crossword2, csp_crossword2d"
   ]
  },
  {
   "cell_type": "code",
   "execution_count": 2,
   "metadata": {},
   "outputs": [
    {
     "data": {
      "application/vnd.jupyter.widget-view+json": {
       "model_id": "f644a269ca1e41739fcb4b3c11db8a32",
       "version_major": 2,
       "version_minor": 0
      },
      "text/plain": [
       "CSPBuilder(graph=CSP({'A': {1, 2, 3, 4}, 'B': {1, 2, 3, 4}, 'C': {1, 2, 3, 4}}, [\"lt('A', 'B')\", \"2!=('B',)\", …"
      ]
     },
     "metadata": {},
     "output_type": "display_data"
    }
   ],
   "source": [
    "from aispace2.jupyter.csp import CSPBuilder\n",
    "\n",
    "builder = CSPBuilder(csp_simple2)\n",
    "builder.text_size = 15\n",
    "builder"
   ]
  },
  {
   "cell_type": "markdown",
   "metadata": {},
   "source": [
    "## Obtaining the CSP\n",
    "The builder exposes two methods that allow you to get the CSP represented by the builder:\n",
    "\n",
    "- `csp()`, which returns an instance of `CSP`.\n",
    "- `py_code()`, which generates Python code that, once run, construct an instance of the `CSP`."
   ]
  },
  {
   "cell_type": "code",
   "execution_count": 3,
   "metadata": {},
   "outputs": [
    {
     "data": {
      "text/plain": [
       "CSP({'A': {1, 2, 3, 4}, 'B': {1, 2, 3, 4}, 'C': {1, 2, 3, 4}}, [\"eq('A', 'B')\", \"eq('B',)\", \"eq('B', 'C')\"])"
      ]
     },
     "execution_count": 3,
     "metadata": {},
     "output_type": "execute_result"
    }
   ],
   "source": [
    "builder.csp()"
   ]
  },
  {
   "cell_type": "code",
   "execution_count": 4,
   "metadata": {
    "collapsed": true
   },
   "outputs": [
    {
     "data": {
      "text/plain": [
       "\"from aipython.cspProblem import CSP, Constraint\\nfrom operator import lt\\ncsp = CSP({'A': {1, 2, 3, 4}, 'B': {1, 2, 3, 4}, 'C': {1, 2, 3, 4}}, [Constraint(('A', 'B'), eq), Constraint(('B',), eq), Constraint(('B', 'C'), eq)])\""
      ]
     },
     "execution_count": 4,
     "metadata": {},
     "output_type": "execute_result"
    }
   ],
   "source": [
    "builder.py_code()"
   ]
  },
  {
   "cell_type": "code",
   "execution_count": null,
   "metadata": {},
   "outputs": [],
   "source": []
  },
  {
   "cell_type": "code",
   "execution_count": null,
   "metadata": {},
   "outputs": [],
   "source": []
  }
 ],
 "metadata": {
  "kernelspec": {
   "display_name": "Python 3",
   "language": "python",
   "name": "python3"
  },
  "language_info": {
   "codemirror_mode": {
    "name": "ipython",
    "version": 3
   },
   "file_extension": ".py",
   "mimetype": "text/x-python",
   "name": "python",
   "nbconvert_exporter": "python",
   "pygments_lexer": "ipython3",
   "version": "3.6.5"
  }
 },
 "nbformat": 4,
 "nbformat_minor": 2
}
