{
 "cells": [
  {
   "cell_type": "markdown",
   "metadata": {},
   "source": [
    "# Building a CSP\n",
    "This notebook demonstrates how to construct a CSP visually. By constructing a `CSPBuilder`, and passing in a CSP that is used as the starting point for construction, you can build it interactively.\n",
    "\n",
    "You can create new nodes and edges, remove existing ones, and change the names and domains of variable nodes."
   ]
  },
  {
   "cell_type": "code",
   "execution_count": null,
   "metadata": {
    "collapsed": true
   },
   "outputs": [],
   "source": [
    "from aispace2.jupyter.csp import CSPBuilder\n",
    "from aipython.cspExamples import csp1, csp2, crossword1\n",
    "\n",
    "builder = CSPBuilder(crossword1)\n",
    "builder"
   ]
  },
  {
   "cell_type": "markdown",
   "metadata": {},
   "source": [
    "## Obtaining the CSP\n",
    "The builder exposes two methods that allow you to get the CSP represented by the builder:\n",
    "\n",
    "- `csp()`, which returns an instance of `CSP`\n",
    "- `py_code()`, which generates Python code that, once run, construct an instance of the `CSP`"
   ]
  },
  {
   "cell_type": "code",
   "execution_count": null,
   "metadata": {
    "collapsed": true
   },
   "outputs": [],
   "source": [
    "builder.csp()"
   ]
  },
  {
   "cell_type": "code",
   "execution_count": null,
   "metadata": {
    "collapsed": true
   },
   "outputs": [],
   "source": [
    "builder.py_code()"
   ]
  },
  {
   "cell_type": "code",
   "execution_count": null,
   "metadata": {
    "collapsed": true
   },
   "outputs": [],
   "source": [
    "from aipython.cspProblem import CSP, Constraint\n",
    "from operator import lt\n",
    "csp = CSP({'A': {1, 2, 3, 4}, 'B': {1, 2, 3, 4}, 'C': {1, 2, 3, 4}}, [Constraint(('A', 'B'), lt), Constraint(('B',), lt), Constraint(('B', 'C'), lt)])"
   ]
  }
 ],
 "metadata": {
  "kernelspec": {
   "display_name": "Python 3",
   "language": "python",
   "name": "python3"
  },
  "language_info": {
   "codemirror_mode": {
    "name": "ipython",
    "version": 3
   },
   "file_extension": ".py",
   "mimetype": "text/x-python",
   "name": "python",
   "nbconvert_exporter": "python",
   "pygments_lexer": "ipython3",
   "version": "3.6.2"
  }
 },
 "nbformat": 4,
 "nbformat_minor": 2
}
