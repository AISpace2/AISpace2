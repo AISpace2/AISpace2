{
 "cells": [
  {
   "cell_type": "markdown",
   "metadata": {
    "extensions": {
     "jupyter_dashboards": {
      "version": 1,
      "views": {
       "grid_default": {
        "col": 4,
        "height": 4,
        "hidden": false,
        "row": 0,
        "width": 4
       },
       "report_default": {
        "hidden": false
       }
      }
     }
    }
   },
   "source": [
    "# [4.4 Consistency Algorithms](http://artint.info/2e/html/ArtInt2e.Ch4.S4.html)\n",
    "- [Implementation Details](http://artint.info/AIPython/aipython.pdf#page=57) (page 57)\n",
    "\n",
    "## About\n",
    "A more advanced technique for solving Constraint Satisfaction Problems (CSPs) is to use __arc consistency__ to prune domains first. In the best case, this will find a unique solution; otherwise, we can perform domain splitting or use search on the simpler problem.\n",
    "\n",
    "## Instructions\n",
    "\n",
    "Each section header contains a link to the corresponding chapter in the accompanying textbook, and an \"Implementation Details\" link provided throughout tells you how the implementation works. Before using this notebook, make sure you have followed the [installation instructions](https://aispace2.github.io/AISpace2/install.html) beforehand.\n",
    "\n",
    "You can run each cell by selecting it and pressing *Ctrl+Enter*. Alternatively, you can click the *Play* button in the toolbar, to the left of the stop button. \n",
    "\n",
    "For more information, including how the code in this notebook differs from that in [AIPython](aipython.org), check out the [Reference](https://aispace2.github.io/AISpace2/reference.html)."
   ]
  },
  {
   "cell_type": "code",
   "execution_count": 3,
   "metadata": {
    "code_folding": [],
    "extensions": {
     "jupyter_dashboards": {
      "version": 1,
      "views": {
       "grid_default": {
        "hidden": true
       },
       "report_default": {
        "hidden": false
       }
      }
     }
    }
   },
   "outputs": [],
   "source": [
    "from aispace2.jupyter.csp import Displayable, visualize\n",
    "\n",
    "\n",
    "class Con_solver(Displayable):\n",
    "    def __init__(self, csp, **kwargs):\n",
    "        \"\"\"a CSP solver that uses arc consistency\n",
    "        * csp is the CSP to be solved\n",
    "        * kwargs is the keyword arguments for Displayable superclass\n",
    "        \"\"\"\n",
    "        self.csp = csp\n",
    "        super().__init__(**kwargs)    # Or Displayable.__init__(self,**kwargs)\n",
    "\n",
    "    @visualize\n",
    "    def make_arc_consistent(self, orig_domains=None, to_do=None):\n",
    "        \"\"\"Makes this CSP arc-consistent using generalized arc consistency\n",
    "        orig_domains is the original domains\n",
    "        to_do is a set of (variable,constraint) pairs\n",
    "        returns the reduced domains\n",
    "        \"\"\"\n",
    "        if orig_domains is None:\n",
    "            orig_domains = self.csp.domains\n",
    "        if to_do is None:\n",
    "            to_do = {(var, const) for const in self.csp.constraints\n",
    "                     for var in const.scope}\n",
    "        else:\n",
    "            to_do = to_do.copy()  # use a copy of to_do\n",
    "        domains = orig_domains.copy()\n",
    "        self.display(2, \"Performing AC with domains\", domains)\n",
    "        while to_do:\n",
    "            var, const = self.select_arc(to_do)\n",
    "            self.display(3, \"Processing arc (\", var, \",\", const, \")\")\n",
    "            other_vars = [ov for ov in const.scope if ov is not var]\n",
    "            new_domain = {val for val in domains[var]\n",
    "                          if self.any_holds(domains, const, {var: val}, other_vars)}\n",
    "            if new_domain != domains[var]:\n",
    "                self.display(4, \"Arc: (\", var, \",\", const, \") is inconsistent\")\n",
    "                self.display(3, \"Domain pruned\", \"dom(\", var, \") =\", new_domain,\n",
    "                             \" due to \", const)\n",
    "                domains[var] = new_domain\n",
    "                add_to_do = self.new_to_do(var, const) - to_do\n",
    "                to_do |= add_to_do      # set union\n",
    "                self.display(\n",
    "                    3, \"  adding\", add_to_do if add_to_do else \"nothing\", \"to to_do.\")\n",
    "            self.display(4, \"Arc: (\", var, \",\", const, \") now consistent\")\n",
    "        self.display(2, \"AC done. Reduced domains\", domains)\n",
    "        return domains\n",
    "\n",
    "    def new_to_do(self, var, const):\n",
    "        \"\"\"returns new elements to be added to to_do after assigning\n",
    "        variable var in constraint const.\n",
    "        \"\"\"\n",
    "        return {(nvar, nconst) for nconst in self.csp.var_to_const[var]\n",
    "                if nconst != const\n",
    "                for nvar in nconst.scope\n",
    "                if nvar != var}\n",
    "\n",
    "    def select_arc(self, to_do):\n",
    "        \"\"\"Selects the arc to be taken from to_do .\n",
    "        * to_do is a set of arcs, where an arc is a (variable,constraint) pair\n",
    "        the element selected must be removed from to_do.\n",
    "        \"\"\"\n",
    "        return self.visualizer.wait_for_arc_selection(to_do)\n",
    "\n",
    "    def any_holds(self, domains, const, env, other_vars, ind=0):\n",
    "        \"\"\"returns True if Constraint const holds for an assignment\n",
    "        that extends env with the variables in other_vars[ind:]\n",
    "        env is a dictionary\n",
    "        Warning: this has side effects and changes the elements of env\n",
    "        \"\"\"\n",
    "        if ind == len(other_vars):\n",
    "            return const.holds(env)\n",
    "        else:\n",
    "            var = other_vars[ind]\n",
    "            for val in domains[var]:\n",
    "                # env = dict_union(env,{var:val})  # no side effects!\n",
    "                env[var] = val\n",
    "                if self.any_holds(domains, const, env, other_vars, ind + 1):\n",
    "                    return True\n",
    "            return False\n",
    "\n",
    "    @visualize\n",
    "    def solve_one(self, domains=None, to_do=None):\n",
    "        \"\"\"return a solution to the current CSP or False if there are no solutions\n",
    "        to_do is the list of arcs to check\n",
    "        \"\"\"\n",
    "        if domains is None:\n",
    "            domains = self.csp.domains\n",
    "        new_domains = self.make_arc_consistent(domains, to_do)\n",
    "        if any(len(new_domains[var]) == 0 for var in domains):\n",
    "            return False\n",
    "        elif all(len(new_domains[var]) == 1 for var in domains):\n",
    "            self.display(2, \"solution:\", {var: select(\n",
    "                new_domains[var]) for var in new_domains})\n",
    "            return {var: select(new_domains[var]) for var in domains}\n",
    "        else:\n",
    "            var = self.split_var(x for x in self.csp.variables if len(\n",
    "                new_domains[x]) > 1)\n",
    "            if var:\n",
    "                dom1, dom2 = self.partition_domain(new_domains[var])\n",
    "                self.display(3, \"...splitting\", var, \"into\", dom1, \"and\", dom2)\n",
    "                new_doms1 = copy_with_assign(new_domains, var, dom1)\n",
    "                new_doms2 = copy_with_assign(new_domains, var, dom2)\n",
    "                to_do = self.new_to_do(var, None)\n",
    "                return self.solve_one(new_doms1, to_do) or self.solve_one(new_doms2, to_do)\n",
    "\n",
    "    def split_var(self, iter_vars):\n",
    "        return self.visualizer.wait_for_var_selection(iter_vars)\n",
    "\n",
    "    def partition_domain(self, dom):\n",
    "        \"\"\"partitions domain dom into two.\n",
    "        \"\"\"\n",
    "        return self.visualizer.choose_domain_partition(dom)\n",
    "\n",
    "\n",
    "def copy_with_assign(domains, var=None, new_domain={True, False}):\n",
    "    \"\"\"create a copy of the domains with an assignment var=new_domain\n",
    "    if var==None then it is just a copy.\n",
    "    \"\"\"\n",
    "    newdoms = domains.copy()\n",
    "    if var is not None:\n",
    "        newdoms[var] = new_domain\n",
    "    return newdoms\n",
    "\n",
    "\n",
    "def select(iterable):\n",
    "    \"\"\"select an element of iterable. Returns None if there is no such element.\n",
    "\n",
    "    This implementation just picks the first element.\n",
    "    For many of the uses, which element is selected does not affect correctness, \n",
    "    but may affect efficiency.\n",
    "    \"\"\"\n",
    "    for e in iterable:\n",
    "        return e  # returns first element found"
   ]
  },
  {
   "cell_type": "markdown",
   "metadata": {},
   "source": [
    "You can click on an arc to run `make_arc_consistent()` on that selection, or choose \"Fine Step\", \"Step\", or \"Auto Arc-Consistency\" to randomly select an arc to make consistent. If you run `solve_one()`, after arc consistency is finished, you can click on a variable with more than one value in its domain to split it. It will then prompt you to choose the domain of the first split."
   ]
  },
  {
   "cell_type": "code",
   "execution_count": 4,
   "metadata": {
    "extensions": {
     "jupyter_dashboards": {
      "version": 1,
      "views": {
       "grid_default": {
        "col": 8,
        "height": 20,
        "hidden": false,
        "row": 0,
        "width": null
       },
       "report_default": {
        "hidden": false
       }
      }
     }
    },
    "scrolled": false
   },
   "outputs": [
    {
     "data": {
      "application/vnd.jupyter.widget-view+json": {
       "model_id": "30c18dca76ac4424aa950f8dfdc6b325",
       "version_major": 2,
       "version_minor": 0
      },
      "text/html": [
       "<p>Failed to display Jupyter Widget of type <code>Con_solver</code>.</p>\n",
       "<p>\n",
       "  If you're reading this message in the Jupyter Notebook or JupyterLab Notebook, it may mean\n",
       "  that the widgets JavaScript is still loading. If this message persists, it\n",
       "  likely means that the widgets JavaScript library is either not installed or\n",
       "  not enabled. See the <a href=\"https://ipywidgets.readthedocs.io/en/stable/user_install.html\">Jupyter\n",
       "  Widgets Documentation</a> for setup instructions.\n",
       "</p>\n",
       "<p>\n",
       "  If you're reading this message in another frontend (for example, a static\n",
       "  rendering on GitHub or <a href=\"https://nbviewer.jupyter.org/\">NBViewer</a>),\n",
       "  it may mean that your frontend doesn't currently support widgets.\n",
       "</p>\n"
      ],
      "text/plain": [
       "Con_solver(graph=CSP({'one_across': {'ant', 'bus', 'big', 'has', 'car'}, 'one_down': {'book', 'buys', 'lane', 'year', 'hold'}, 'two_down': {'syntax', 'symbol', 'search', 'ginger'}, 'three_across': {'book', 'buys', 'year', 'hold', 'land'}, 'four_across': {'ant', 'bus', 'big', 'has', 'car'}}, [\"meet_at(0,0)('one_across', 'one_down')\", \"meet_at(2,0)('one_across', 'two_down')\", \"meet_at(2,2)('three_across', 'two_down')\", \"meet_at(0,2)('three_across', 'one_down')\", \"meet_at(0,4)('four_across', 'two_down')\"]), line_width=10.0, text_size=15)"
      ]
     },
     "metadata": {},
     "output_type": "display_data"
    }
   ],
   "source": [
    "from aipython.cspExamples import simple_csp1, simple_csp2, extended_csp, crossword1, crossword2, crossword2d\n",
    "from IPython.display import display\n",
    "\n",
    "con_solver = Con_solver(crossword1)\n",
    "\n",
    "# Visualization options\n",
    "con_solver.visualizer.line_width = 10\n",
    "con_solver.visualizer.sleep_time = 0.1\n",
    "con_solver.visualizer.text_size = 15\n",
    "\n",
    "display(con_solver)\n",
    "\n",
    "# Call the function to execute in our visualization\n",
    "con_solver.solve_one()"
   ]
  },
  {
   "cell_type": "code",
   "execution_count": null,
   "metadata": {},
   "outputs": [],
   "source": []
  }
 ],
 "metadata": {
  "celltoolbar": "Raw Cell Format",
  "extensions": {
   "jupyter_dashboards": {
    "activeView": "report_default",
    "version": 1,
    "views": {
     "grid_default": {
      "cellMargin": 10,
      "defaultCellHeight": 20,
      "maxColumns": 12,
      "name": "grid",
      "type": "grid"
     },
     "report_default": {
      "name": "report",
      "type": "report"
     }
    }
   }
  },
  "kernelspec": {
   "display_name": "Python 3",
   "language": "python",
   "name": "python3"
  },
  "language_info": {
   "codemirror_mode": {
    "name": "ipython",
    "version": 3
   },
   "file_extension": ".py",
   "mimetype": "text/x-python",
   "name": "python",
   "nbconvert_exporter": "python",
   "pygments_lexer": "ipython3",
   "version": "3.6.4"
  }
 },
 "nbformat": 4,
 "nbformat_minor": 2
}
