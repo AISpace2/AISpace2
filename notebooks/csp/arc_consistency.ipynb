{
 "cells": [
  {
   "cell_type": "markdown",
   "metadata": {
    "extensions": {
     "jupyter_dashboards": {
      "version": 1,
      "views": {
       "grid_default": {
        "col": 4,
        "height": 4,
        "hidden": false,
        "row": 0,
        "width": 4
       },
       "report_default": {
        "hidden": false
       }
      }
     }
    }
   },
   "source": [
    "# 4.3 Consistency Algorithms\n",
    "\n",
    "A more advanced technique for solving Constraint Satisfaction Problems (CSPs) is to use _arc consistency_ to prune domains first. In the best case, this will find a unique solution; otherwise, we can perform domain splitting or use search on the simpler problem.\n",
    "\n",
    "The bulk of the work is done by the `make_arc_consistent` function below. This maintains a set `to_do` of arcs that may be inconsistent, and in each iteration, makes a selected arc consistent. This may cause other arcs to be (re)added to the `to_do` set, but eventually the algorithm will terminate."
   ]
  },
  {
   "cell_type": "code",
   "execution_count": null,
   "metadata": {
    "code_folding": [],
    "extensions": {
     "jupyter_dashboards": {
      "version": 1,
      "views": {
       "grid_default": {
        "hidden": true
       },
       "report_default": {
        "hidden": false
       }
      }
     }
    }
   },
   "outputs": [],
   "source": [
    "from aispace2.jupyter.csp import Displayable, visualize\n",
    "\n",
    "\n",
    "class Con_solver(Displayable):\n",
    "    def __init__(self, csp, **kwargs):\n",
    "        \"\"\"a CSP solver that uses arc consistency\n",
    "        * csp is the CSP to be solved\n",
    "        * kwargs is the keyword arguments for Displayable superclass\n",
    "        \"\"\"\n",
    "        self.csp = csp\n",
    "        super().__init__(**kwargs)    # Or Displayable.__init__(self,**kwargs)\n",
    "\n",
    "    @visualize\n",
    "    def make_arc_consistent(self, orig_domains=None, to_do=None):\n",
    "        \"\"\"Makes this CSP arc-consistent using generalized arc consistency\n",
    "        orig_domains is the original domains\n",
    "        to_do is a set of (variable,constraint) pairs\n",
    "        returns the reduced domains\n",
    "        \"\"\"\n",
    "        if orig_domains is None:\n",
    "            orig_domains = self.csp.domains\n",
    "        if to_do is None:\n",
    "            to_do = {(var, const) for const in self.csp.constraints\n",
    "                     for var in const.scope}\n",
    "        else:\n",
    "            to_do = to_do.copy()  # use a copy of to_do\n",
    "        domains = orig_domains.copy()\n",
    "        self.display(2, \"Performing AC with domains\", domains)\n",
    "        while to_do:\n",
    "            var, const = self.select_arc(to_do)\n",
    "            self.display(3, \"Processing arc (\", var, \",\", const, \")\")\n",
    "            other_vars = [ov for ov in const.scope if ov is not var]\n",
    "            new_domain = {val for val in domains[var]\n",
    "                          if self.any_holds(domains, const, {var: val}, other_vars)}\n",
    "            if new_domain != domains[var]:\n",
    "                self.display(4, \"Arc: (\", var, \",\", const, \") is inconsistent\")\n",
    "                self.display(3, \"Domain pruned\", \"dom(\", var, \") =\", new_domain,\n",
    "                             \" due to \", const)\n",
    "                domains[var] = new_domain\n",
    "                add_to_do = self.new_to_do(var, const) - to_do\n",
    "                to_do |= add_to_do      # set union\n",
    "                self.display(\n",
    "                    3, \"  adding\", add_to_do if add_to_do else \"nothing\", \"to to_do.\")\n",
    "            self.display(4, \"Arc: (\", var, \",\", const, \") now consistent\")\n",
    "        self.display(2, \"AC done. Reduced domains\", domains)\n",
    "        return domains\n",
    "\n",
    "    def new_to_do(self, var, const):\n",
    "        \"\"\"returns new elements to be added to to_do after assigning\n",
    "        variable var in constraint const.\n",
    "        \"\"\"\n",
    "        return {(nvar, nconst) for nconst in self.csp.var_to_const[var]\n",
    "                if nconst != const\n",
    "                for nvar in nconst.scope\n",
    "                if nvar != var}\n",
    "\n",
    "    def select_arc(self, to_do):\n",
    "        \"\"\"Selects the arc to be taken from to_do .\n",
    "        * to_do is a set of arcs, where an arc is a (variable,constraint) pair\n",
    "        the element selected must be removed from to_do.\n",
    "        \"\"\"\n",
    "        return self.visualizer.wait_for_arc_selection(to_do)\n",
    "\n",
    "    def any_holds(self, domains, const, env, other_vars, ind=0):\n",
    "        \"\"\"returns True if Constraint const holds for an assignment\n",
    "        that extends env with the variables in other_vars[ind:]\n",
    "        env is a dictionary\n",
    "        Warning: this has side effects and changes the elements of env\n",
    "        \"\"\"\n",
    "        if ind == len(other_vars):\n",
    "            return const.holds(env)\n",
    "        else:\n",
    "            var = other_vars[ind]\n",
    "            for val in domains[var]:\n",
    "                # env = dict_union(env,{var:val})  # no side effects!\n",
    "                env[var] = val\n",
    "                if self.any_holds(domains, const, env, other_vars, ind + 1):\n",
    "                    return True\n",
    "            return False\n",
    "\n",
    "    @visualize\n",
    "    def solve_one(self, domains=None, to_do=None):\n",
    "        \"\"\"return a solution to the current CSP or False if there are no solutions\n",
    "        to_do is the list of arcs to check\n",
    "        \"\"\"\n",
    "        if domains is None:\n",
    "            domains = self.csp.domains\n",
    "        new_domains = self.make_arc_consistent(domains, to_do)\n",
    "        if any(len(new_domains[var]) == 0 for var in domains):\n",
    "            return False\n",
    "        elif all(len(new_domains[var]) == 1 for var in domains):\n",
    "            self.display(2, \"solution:\", {var: select(\n",
    "                new_domains[var]) for var in new_domains})\n",
    "            return {var: select(new_domains[var]) for var in domains}\n",
    "        else:\n",
    "            var = select(x for x in self.csp.variables if len(\n",
    "                new_domains[x]) > 1)\n",
    "            if var:\n",
    "                dom1, dom2 = partition_domain(new_domains[var])\n",
    "                self.display(3, \"...splitting\", var, \"into\", dom1, \"and\", dom2)\n",
    "                new_doms1 = copy_with_assign(new_domains, var, dom1)\n",
    "                new_doms2 = copy_with_assign(new_domains, var, dom2)\n",
    "                to_do = self.new_to_do(var, None)\n",
    "                return self.solve_one(new_doms1, to_do) or self.solve_one(new_doms2, to_do)\n",
    "\n",
    "\n",
    "def partition_domain(dom):\n",
    "    \"\"\"partitions domain dom into two.\n",
    "    \"\"\"\n",
    "    split = len(dom) // 2\n",
    "    dom1 = set(list(dom)[:split])\n",
    "    dom2 = dom - dom1\n",
    "    return dom1, dom2\n",
    "\n",
    "\n",
    "def copy_with_assign(domains, var=None, new_domain={True, False}):\n",
    "    \"\"\"create a copy of the domains with an assignment var=new_domain\n",
    "    if var==None then it is just a copy.\n",
    "    \"\"\"\n",
    "    newdoms = domains.copy()\n",
    "    if var is not None:\n",
    "        newdoms[var] = new_domain\n",
    "    return newdoms\n",
    "\n",
    "\n",
    "def select(iterable):\n",
    "    \"\"\"select an element of iterable. Returns None if there is no such element.\n",
    "\n",
    "    This implementation just picks the first element.\n",
    "    For many of the uses, which element is selected does not affect correctness, \n",
    "    but may affect efficiency.\n",
    "    \"\"\"\n",
    "    for e in iterable:\n",
    "        return e  # returns first element found"
   ]
  },
  {
   "cell_type": "markdown",
   "metadata": {
    "extensions": {
     "jupyter_dashboards": {
      "version": 1,
      "views": {
       "grid_default": {
        "col": 0,
        "height": 4,
        "hidden": false,
        "row": 20,
        "width": 12
       },
       "report_default": {
        "hidden": false
       }
      }
     }
    }
   },
   "source": [
    "Below we present the visualization for arc consistency. There are several pre-made CSPs in `cspExamples.py` that you may try. You can click on an arc to run `make_arc_consistent()` on that selection, or choose \"Fine Step\", \"Step\", or \"Auto Arc-Consistency\" to randomly select an arc to make consistent. Note that the order in which arcs are selected does not affect the final result — the reduced domains are the same regardless of the order the arcs are made consistent."
   ]
  },
  {
   "cell_type": "code",
   "execution_count": null,
   "metadata": {
    "extensions": {
     "jupyter_dashboards": {
      "version": 1,
      "views": {
       "grid_default": {
        "col": 8,
        "height": 20,
        "hidden": false,
        "row": 0,
        "width": null
       },
       "report_default": {
        "hidden": false
       }
      }
     }
    },
    "scrolled": true
   },
   "outputs": [],
   "source": [
    "from aipython.cspExamples import csp1, csp2, crossword1, crossword2\n",
    "from IPython.display import display\n",
    "\n",
    "con_solver = Con_solver(csp1)\n",
    "\n",
    "# Visualization options\n",
    "con_solver.visualizer.line_width = 10\n",
    "con_solver.visualizer.sleep_time = 0.2\n",
    "\n",
    "display(con_solver)\n",
    "\n",
    "# Call the function to execute in our visualization\n",
    "con_solver.make_arc_consistent()"
   ]
  },
  {
   "cell_type": "markdown",
   "metadata": {},
   "source": [
    "**Exercise 4.2** Implement `solve_all`, which is like `solve_one` but returns the set of all solution."
   ]
  },
  {
   "cell_type": "markdown",
   "metadata": {},
   "source": [
    "## 4.3.2 Domain Splitting as an interface to graph searching\n",
    "\n",
    "We can leverage our `Search_problem` interface and recast it as a domain splitting search space."
   ]
  },
  {
   "cell_type": "code",
   "execution_count": null,
   "metadata": {
    "collapsed": true
   },
   "outputs": [],
   "source": [
    "from aipython.searchProblem import Arc, Search_problem\n",
    "from aipython.cspConsistency import Con_solver, select, partition_domain, copy_with_assign\n",
    "from aipython.utilities import Displayable\n",
    "\n",
    "class Search_with_AC_from_CSP(Search_problem, Displayable):\n",
    "    \"\"\"A search problem with arc consistency and domain splitting\n",
    "\n",
    "    A node is a CSP \"\"\"\n",
    "    def __init__(self, csp):\n",
    "        self.cons = Con_solver(csp)  #copy of the CSP\n",
    "        self.domains = self.cons.make_arc_consistent()\n",
    "        print(self.domains)\n",
    "\n",
    "    def is_goal(self, node):\n",
    "        \"\"\"node is a goal if all domains have 1 element\"\"\"\n",
    "        return all(len(node[var])==1 for var in node)\n",
    "    \n",
    "    def start_node(self):\n",
    "        return self.domains\n",
    "    \n",
    "    def neighbors(self,node):\n",
    "        \"\"\"returns the neighboring nodes of node.\n",
    "        \"\"\"\n",
    "        neighs = []\n",
    "        var = select(x for x in node if len(node[x])>1)\n",
    "        if var:\n",
    "            dom1, dom2 = partition_domain(node[var])\n",
    "            self.display(2,\"Splitting\", var, \"into\", dom1, \"and\", dom2)\n",
    "            to_do = self.cons.new_to_do(var,None)\n",
    "            for dom in [dom1,dom2]:\n",
    "                newdoms = copy_with_assign(node,var,dom)\n",
    "                cons_doms = self.cons.make_arc_consistent(newdoms,to_do)\n",
    "                if all(len(cons_doms[v])>0 for v in cons_doms):\n",
    "                    # all domains are non-empty\n",
    "                    neighs.append(Arc(node,cons_doms))\n",
    "                else:\n",
    "                    self.display(2,\"...\",var,\"in\",dom,\"has no solution\")\n",
    "        return neighs"
   ]
  },
  {
   "cell_type": "code",
   "execution_count": null,
   "metadata": {
    "collapsed": true
   },
   "outputs": [],
   "source": [
    "from aipython.searchBranchAndBound import DF_branch_and_bound\n",
    "from aipython.cspExamples import csp1\n",
    "from IPython.display import display\n",
    "\n",
    "searcher = DF_branch_and_bound(Search_with_AC_from_CSP(csp1))\n",
    "searcher.layout_method = \"tree\"\n",
    "display(searcher)"
   ]
  },
  {
   "cell_type": "code",
   "execution_count": null,
   "metadata": {
    "collapsed": true
   },
   "outputs": [],
   "source": [
    "searcher.search()"
   ]
  }
 ],
 "metadata": {
  "celltoolbar": "Raw Cell Format",
  "extensions": {
   "jupyter_dashboards": {
    "activeView": "report_default",
    "version": 1,
    "views": {
     "grid_default": {
      "cellMargin": 10,
      "defaultCellHeight": 20,
      "maxColumns": 12,
      "name": "grid",
      "type": "grid"
     },
     "report_default": {
      "name": "report",
      "type": "report"
     }
    }
   }
  },
  "kernelspec": {
   "display_name": "Python 3",
   "language": "python",
   "name": "python3"
  },
  "language_info": {
   "codemirror_mode": {
    "name": "ipython",
    "version": 3
   },
   "file_extension": ".py",
   "mimetype": "text/x-python",
   "name": "python",
   "nbconvert_exporter": "python",
   "pygments_lexer": "ipython3",
   "version": "3.6.2"
  }
 },
 "nbformat": 4,
 "nbformat_minor": 2
}
