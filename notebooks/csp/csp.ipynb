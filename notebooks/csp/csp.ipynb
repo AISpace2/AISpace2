{
 "cells": [
  {
   "cell_type": "markdown",
   "metadata": {},
   "source": [
    "# Setup"
   ]
  },
  {
   "cell_type": "code",
   "execution_count": null,
   "metadata": {},
   "outputs": [],
   "source": [
    "!pip install aispace --user\n",
    "!jupyter nbextension enable --py --user aispace"
   ]
  },
  {
   "cell_type": "markdown",
   "metadata": {},
   "source": [
    "Make sure you restart the kernel before proceeding to run the cells below."
   ]
  },
  {
   "cell_type": "markdown",
   "metadata": {
    "extensions": {
     "jupyter_dashboards": {
      "version": 1,
      "views": {
       "grid_default": {
        "col": 4,
        "height": 4,
        "hidden": false,
        "row": 0,
        "width": 4
       },
       "report_default": {
        "hidden": false
       }
      }
     }
    }
   },
   "source": [
    "# Solving CSPs with Arc Consistency\n",
    "\n",
    "A more advanced technique for solving Constraint Satisfaction Problems (CSPs) is to use _arc consistency_ to prune domains first. In the best case, this will find a unique solution; otherwise, we can perform domain splitting or use search on the simpler problem.\n",
    "\n",
    "The bulk of the work is done by the `make_arc_consistent` function below. This maintains a set `to_do` of arcs that may be inconsistent, and in each iteration, makes a selected arc consistent. This may cause other arcs to be (re)added to the `to_do` set, but eventually the algorithm will terminate."
   ]
  },
  {
   "cell_type": "code",
   "execution_count": null,
   "metadata": {
    "code_folding": [],
    "collapsed": true,
    "extensions": {
     "jupyter_dashboards": {
      "version": 1,
      "views": {
       "grid_default": {
        "hidden": true
       },
       "report_default": {
        "hidden": false
       }
      }
     }
    }
   },
   "outputs": [],
   "source": [
    "from aispace.jupyter.csp import Displayable, visualize\n",
    "\n",
    "\n",
    "class Con_solver(Displayable):\n",
    "    def __init__(self, csp, **kwargs):\n",
    "        self.csp = csp\n",
    "        super().__init__(**kwargs)    # Or Displayable.__init__(self,**kwargs)\n",
    "\n",
    "    @visualize\n",
    "    def make_arc_consistent(self, orig_domains=None, to_do=None):\n",
    "        \"\"\"Makes this CSP arc-consistent using generalized arc consistency\n",
    "        orig_domains is the original domains\n",
    "        to_do is a set of (variable,constraint) pairs\n",
    "        returns the reduced domains\n",
    "        \"\"\"\n",
    "        if orig_domains is None:\n",
    "            orig_domains = self.csp.domains\n",
    "        if to_do is None:\n",
    "            to_do = {(var, const) for const in self.csp.constraints\n",
    "                     for var in const.scope}\n",
    "        else:\n",
    "            to_do = to_do.copy()  # use a copy of to_do\n",
    "        domains = orig_domains.copy()\n",
    "        self.display(2, \"Performing AC with domains\", domains)\n",
    "        while to_do:\n",
    "            var, const = self.choose_arc(to_do)\n",
    "            self.display(3, \"Processing arc (\", var, \",\", const, \")\")\n",
    "            other_vars = [ov for ov in const.scope if ov is not var]\n",
    "            new_domain = {val for val in domains[var]\n",
    "                          if self.any_holds(domains, const, {var: val}, other_vars, 0)}\n",
    "            if new_domain != domains[var]:\n",
    "                self.display(4, \"Arc: (\", var, \",\", const, \") is inconsistent\")\n",
    "                self.display(3, \"Domain pruned\", \"dom(\", var, \") =\",\n",
    "                             new_domain, \" due to \", const)\n",
    "                domains[var] = new_domain\n",
    "                add_to_do = self.new_to_do(var, const)\n",
    "                to_do |= add_to_do      # set union\n",
    "                self.display(\n",
    "                    3, \"  adding\", add_to_do if add_to_do else \"nothing\", \"to to_do.\")\n",
    "            self.display(4, \"Arc: (\", var, \",\", const, \") now consistent\")\n",
    "        self.display(2, \"AC done. Reduced domains\", domains)\n",
    "        return domains\n",
    "\n",
    "    def choose_arc(self, to_do):\n",
    "        \"\"\"Selects the arc to be taken from the to_do list.\n",
    "\n",
    "        to_do list should be directly modified, or the algorithm will not terminate.\"\"\"\n",
    "        return self.visualizer.wait_for_arc_selection(to_do)\n",
    "\n",
    "    def new_to_do(self, var, const):\n",
    "        \"\"\"returns new elements to be added to to_do after assigning\n",
    "        variable var in constraint const.\n",
    "        \"\"\"\n",
    "        return {(nvar, nconst) for nconst in self.csp.var_to_const[var]\n",
    "                if nconst != const\n",
    "                for nvar in nconst.scope\n",
    "                if nvar != var}\n",
    "\n",
    "    def any_holds(self, domains, const, env, other_vars, ind):\n",
    "        \"\"\"returns True if Constraint const holds for an assignment\n",
    "        that extends env with the variables in other_vars[ind:]\n",
    "        env is a dictionary\n",
    "        Warning: this has side effects and changes the elements of env\n",
    "        \"\"\"\n",
    "        if ind == len(other_vars):\n",
    "            return const.holds(env)\n",
    "        else:\n",
    "            var = other_vars[ind]\n",
    "            for val in domains[var]:\n",
    "                # env = dict_union(env,{var:val})  # no side effects!\n",
    "                env[var] = val\n",
    "                if self.any_holds(domains, const, env, other_vars, ind + 1):\n",
    "                    return True\n",
    "            return False\n",
    "\n",
    "    @visualize\n",
    "    def solve_one(self, domains=None, to_do=None):\n",
    "        \"\"\"return a solution to the current CSP or False if there are no solutions\n",
    "        to_do is the list of arcs to check\n",
    "        \"\"\"\n",
    "        if domains is None:\n",
    "            domains = self.csp.domains\n",
    "        new_domains = self.make_arc_consistent(domains, to_do)\n",
    "        if any(len(new_domains[var]) == 0 for var in domains):\n",
    "            return False\n",
    "        elif all(len(new_domains[var]) == 1 for var in domains):\n",
    "            self.display(2, \"solution:\", {var: select(\n",
    "                new_domains[var]) for var in new_domains})\n",
    "            return {var: select(new_domains[var]) for var in domains}\n",
    "        else:\n",
    "            var = select(x for x in self.csp.variables if len(\n",
    "                new_domains[x]) > 1)\n",
    "            if var:\n",
    "                split = len(domains[var]) // 2\n",
    "                # a nonempty proper subset\n",
    "                dom1 = set(list(new_domains[var])[:split])\n",
    "                # copy with dom(var)=dom1\n",
    "                new_dom1 = copy_with_assign(new_domains, var, dom1)\n",
    "                dom2 = domains[var] - dom1\n",
    "                # copy with dom(var)=dom2\n",
    "                new_dom2 = copy_with_assign(new_domains, var, dom2)\n",
    "                self.display(3, \"...splitting\", var, \"into\", dom1, \"and\", dom2)\n",
    "                to_do = self.new_to_do(var, None)\n",
    "                return self.solve_one(new_dom1, to_do) or self.solve_one(new_dom2, to_do)\n",
    "\n",
    "    @visualize\n",
    "    def solve_all(self, domains=None, to_do=None):\n",
    "        \"\"\"return a solution to the current CSP or False if there are no solutions\n",
    "        to_do is the list of arcs to check\n",
    "        \"\"\"\n",
    "        if domains is None:\n",
    "            domains = self.csp.domains\n",
    "        new_domains = self.make_arc_consistent(domains, to_do)\n",
    "        if any(len(new_domains[var]) == 0 for var in domains):\n",
    "            return []\n",
    "        elif all(len(new_domains[var]) == 1 for var in domains):\n",
    "            self.display(2, \"solution:\", {var: select(\n",
    "                new_domains[var]) for var in new_domains})\n",
    "            return [{var: select(new_domains[var]) for var in domains}]\n",
    "        else:\n",
    "            var = select(x for x in self.csp.variables if len(\n",
    "                new_domains[x]) > 1)\n",
    "            if var:\n",
    "                split = len(domains[var]) // 2\n",
    "                # a nonempty proper subset\n",
    "                dom1 = set(list(new_domains[var])[:split])\n",
    "                # copy with dom(var)=dom1\n",
    "                new_dom1 = copy_with_assign(new_domains, var, dom1)\n",
    "                dom2 = domains[var] - dom1\n",
    "                # copy with dom(var)=dom2\n",
    "                new_dom2 = copy_with_assign(new_domains, var, dom2)\n",
    "                self.display(3, \"...splitting\", var, \"into\", dom1, \"and\", dom2)\n",
    "                to_do = self.new_to_do(var, None)\n",
    "                return self.solve_all(new_dom1, to_do) + self.solve_all(new_dom2, to_do)\n",
    "\n",
    "\n",
    "def copy_with_assign(domains, var=None, new_domain={True, False}):\n",
    "    \"\"\"create a copy of the domains with an assignment var=new_domain\n",
    "    if var==None then it is just a copy.\n",
    "    \"\"\"\n",
    "    newdoms = domains.copy()\n",
    "    if var is not None:\n",
    "        newdoms[var] = new_domain\n",
    "    return newdoms\n",
    "\n",
    "\n",
    "def select(iterable):\n",
    "    \"\"\"select an element of iterable. Returns None if there is no such element.\n",
    "\n",
    "    This implementation just picks the first element.\n",
    "    For many of the uses, which element is selected does not affect correctness, \n",
    "    but may affect efficiency.\n",
    "    \"\"\"\n",
    "    for e in iterable:\n",
    "        return e  # returns first element found"
   ]
  },
  {
   "cell_type": "markdown",
   "metadata": {
    "extensions": {
     "jupyter_dashboards": {
      "version": 1,
      "views": {
       "grid_default": {
        "col": 0,
        "height": 4,
        "hidden": false,
        "row": 20,
        "width": 12
       },
       "report_default": {
        "hidden": false
       }
      }
     }
    }
   },
   "source": [
    "Below we present the visualization for arc consistency. There are several pre-made CSPs in `cspExamples.py` that you may try. You can click on an arc to run `make_arc_consistent()` on that selection, or choose \"Fine Step\", \"Step\", or \"Auto Arc-Consistency\" to randomly select an arc to make consistent. Note that the order in which arcs are selected does not affect the final result — the reduced domains are the same regardless of the order the arcs are made consistent."
   ]
  },
  {
   "cell_type": "code",
   "execution_count": null,
   "metadata": {
    "extensions": {
     "jupyter_dashboards": {
      "version": 1,
      "views": {
       "grid_default": {
        "col": 8,
        "height": 20,
        "hidden": false,
        "row": 0,
        "width": null
       },
       "report_default": {
        "hidden": false
       }
      }
     }
    },
    "scrolled": true
   },
   "outputs": [],
   "source": [
    "from aipython.cspExamples import csp1, csp2, crossword1, crossword2\n",
    "from IPython.display import display\n",
    "\n",
    "con_solver = Con_solver(csp1)\n",
    "\n",
    "# Visualization options\n",
    "con_solver.visualizer.line_width = 10\n",
    "con_solver.visualizer.sleep_time = 0.2\n",
    "\n",
    "display(con_solver)\n",
    "\n",
    "# Call the function to execute in our visualization\n",
    "con_solver.solve_all()"
   ]
  },
  {
   "cell_type": "code",
   "execution_count": null,
   "metadata": {},
   "outputs": [],
   "source": [
    "con_solver"
   ]
  },
  {
   "cell_type": "markdown",
   "metadata": {},
   "source": [
    "**Exercise 4.2** Implement `solve_all`, which is like `solve_one` but returns the set of all solution."
   ]
  },
  {
   "cell_type": "code",
   "execution_count": null,
   "metadata": {},
   "outputs": [],
   "source": [
    "import aispace\n",
    "from aipython.cspExamples import csp1\n",
    "builder = aispace.CSPBuilder(csp1)\n",
    "builder"
   ]
  },
  {
   "cell_type": "code",
   "execution_count": null,
   "metadata": {
    "collapsed": true
   },
   "outputs": [],
   "source": [
    "builder.py_code()"
   ]
  }
 ],
 "metadata": {
  "celltoolbar": "Raw Cell Format",
  "extensions": {
   "jupyter_dashboards": {
    "activeView": "report_default",
    "version": 1,
    "views": {
     "grid_default": {
      "cellMargin": 10,
      "defaultCellHeight": 20,
      "maxColumns": 12,
      "name": "grid",
      "type": "grid"
     },
     "report_default": {
      "name": "report",
      "type": "report"
     }
    }
   }
  },
  "kernelspec": {
   "display_name": "Python 3",
   "language": "python",
   "name": "python3"
  },
  "language_info": {
   "codemirror_mode": {
    "name": "ipython",
    "version": 3
   },
   "file_extension": ".py",
   "mimetype": "text/x-python",
   "name": "python",
   "nbconvert_exporter": "python",
   "pygments_lexer": "ipython3",
   "version": "3.6.1"
  }
 },
 "nbformat": 4,
 "nbformat_minor": 2
}
