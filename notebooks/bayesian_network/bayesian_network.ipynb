{
 "cells": [
  {
   "cell_type": "markdown",
   "metadata": {},
   "source": [
    "# [8.3 Belief Networks](https://artint.info/2e/html/ArtInt2e.Ch8.S3.html)\n",
    "- [Implementation Details](http://artint.info/AIPython/aipython.pdf#page=137) (page 137)\n",
    "\n",
    "## About\n",
    "A __Bayesian network__, also called a __belief network__, is a model of conditional dependence among a set of random variables. The conditional independence in a Bayesian network takes in an ordering of the variables, and results in an acyclic directed graph (DAG). Associated with each node of a Bayesian network is a set of conditional probability distributions (factors) that specify the conditional probability of each variable given its parents (which includes the prior probabilities of those variables with no parents).\n",
    "\n",
    "You can run each cell by selecting it and pressing *Ctrl+Enter* in Windows or *Shift+Return* in Mac. Alternatively, you can click the *Play* button in the toolbar, to the left of the stop button. For more information, check out our AISpace2 [Tutorial](https://aispace2.github.io/AISpace2/tutorial.html).\n",
    "\n",
    "You need to run the following command to import our pre-defined problems. You can also define your own problems ([how?](https://aispace2.github.io/AISpace2/tutorial.html#tutorial-bayesian-construct-yourself)). "
   ]
  },
  {
   "cell_type": "code",
   "execution_count": null,
   "metadata": {},
   "outputs": [],
   "source": [
    "# Run this to import pre-defined problems\n",
    "from aipython.probGraphicalModels import bn1, bn2, bn3, bn4"
   ]
  },
  {
   "cell_type": "code",
   "execution_count": null,
   "metadata": {},
   "outputs": [],
   "source": [
    "from aipython.probBayesianNetwork import Bayesian_Network\n",
    "\n",
    "bn = Bayesian_Network(problem=bn2)\n",
    "\n",
    "# Visualization options\n",
    "bn.line_width = 4.0 # The thickness of edges\n",
    "bn.text_size = 15 # The fontsize of the text\n",
    "bn.detail_level = 2 # 0=no text, 1=truncated text, 2=full text\n",
    "bn.decimal_place = 2\n",
    "\n",
    "# Display the widget\n",
    "display(bn)"
   ]
  },
  {
   "cell_type": "code",
   "execution_count": null,
   "metadata": {},
   "outputs": [],
   "source": []
  }
 ],
 "metadata": {
  "kernelspec": {
   "display_name": "Python 3",
   "language": "python",
   "name": "python3"
  },
  "language_info": {
   "codemirror_mode": {
    "name": "ipython",
    "version": 3
   },
   "file_extension": ".py",
   "mimetype": "text/x-python",
   "name": "python",
   "nbconvert_exporter": "python",
   "pygments_lexer": "ipython3",
   "version": "3.6.8"
  }
 },
 "nbformat": 4,
 "nbformat_minor": 2
}
