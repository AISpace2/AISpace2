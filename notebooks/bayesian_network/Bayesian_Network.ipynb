{
 "cells": [
  {
   "cell_type": "code",
   "execution_count": null,
   "metadata": {},
   "outputs": [],
   "source": [
    "from aispace2.jupyter.bayes import Displayable\n",
    "from aipython.probGraphicalModels import Belief_network\n",
    "        \n",
    "class Belief_Network_Displayer(Displayable):\n",
    "        def __init__(self, problem, decimal_place=2):\n",
    "            self.problem = problem\n",
    "            self.decimal_place = decimal_place\n",
    "            super().__init__()"
   ]
  },
  {
   "cell_type": "code",
   "execution_count": null,
   "metadata": {},
   "outputs": [],
   "source": [
    "from aipython.probVariables import Variable\n",
    "from aipython.probFactors import Prob\n",
    "# you can define your own Bayesian Network problems here\n",
    "\n",
    "# import example problems\n",
    "from aipython.probGraphicalModels import bn1, bn2, bn3\n",
    "\n",
    "display(Belief_Network_Displayer(problem=bn1, decimal_place=2))"
   ]
  },
  {
   "cell_type": "code",
   "execution_count": null,
   "metadata": {},
   "outputs": [],
   "source": []
  }
 ],
 "metadata": {
  "kernelspec": {
   "display_name": "Python 3",
   "language": "python",
   "name": "python3"
  },
  "language_info": {
   "codemirror_mode": {
    "name": "ipython",
    "version": 3
   },
   "file_extension": ".py",
   "mimetype": "text/x-python",
   "name": "python",
   "nbconvert_exporter": "python",
   "pygments_lexer": "ipython3",
   "version": "3.6.5"
  }
 },
 "nbformat": 4,
 "nbformat_minor": 2
}
