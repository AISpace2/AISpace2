{
 "cells": [
  {
   "cell_type": "code",
   "execution_count": 21,
   "metadata": {
    "scrolled": false
   },
   "outputs": [
    {
     "data": {
      "application/vnd.jupyter.widget-view+json": {
       "model_id": "be3ae6cb36f848edb2c8a8fe6a41acfd",
       "version_major": 2,
       "version_minor": 0
      },
      "text/html": [
       "<p>Failed to display Jupyter Widget of type <code>Belief_Network_Displayer</code>.</p>\n",
       "<p>\n",
       "  If you're reading this message in the Jupyter Notebook or JupyterLab Notebook, it may mean\n",
       "  that the widgets JavaScript is still loading. If this message persists, it\n",
       "  likely means that the widgets JavaScript library is either not installed or\n",
       "  not enabled. See the <a href=\"https://ipywidgets.readthedocs.io/en/stable/user_install.html\">Jupyter\n",
       "  Widgets Documentation</a> for setup instructions.\n",
       "</p>\n",
       "<p>\n",
       "  If you're reading this message in another frontend (for example, a static\n",
       "  rendering on GitHub or <a href=\"https://nbviewer.jupyter.org/\">NBViewer</a>),\n",
       "  it may mean that your frontend doesn't currently support widgets.\n",
       "</p>\n"
      ],
      "text/plain": [
       "Belief_Network_Displayer(graph=<aipython.probGraphicalModels.Belief_network object at 0x10e89d9e8>)"
      ]
     },
     "metadata": {},
     "output_type": "display_data"
    }
   ],
   "source": [
    "from aispace2.jupyter.bayes import Displayable\n",
    "from aipython.probGraphicalModels import Belief_network\n",
    "        \n",
    "class Belief_Network_Displayer(Displayable):\n",
    "        def __init__(self, problem):\n",
    "            self.problem = problem\n",
    "            super().__init__()\n",
    "        \n",
    "from aipython.probVariables import Variable\n",
    "from aipython.probFactors import Prob\n",
    "\n",
    "boolean = [False, True]\n",
    "A = Variable(\"A\", boolean)\n",
    "B = Variable(\"B\", boolean)\n",
    "C = Variable(\"C\", boolean)\n",
    "\n",
    "f_a = Prob(A,[],[0.4,0.6])\n",
    "f_b = Prob(B,[A],[0.9,0.1,0.2,0.8])\n",
    "f_c = Prob(C,[B],[0.5,0.5,0.3,0.7])\n",
    "\n",
    "bn1 = Belief_network([A,B,C],[f_a,f_b,f_c])\n",
    "display(Belief_Network_Displayer(bn1))\n"
   ]
  },
  {
   "cell_type": "code",
   "execution_count": null,
   "metadata": {},
   "outputs": [],
   "source": []
  },
  {
   "cell_type": "code",
   "execution_count": null,
   "metadata": {},
   "outputs": [],
   "source": []
  }
 ],
 "metadata": {
  "kernelspec": {
   "display_name": "Python 3",
   "language": "python",
   "name": "python3"
  },
  "language_info": {
   "codemirror_mode": {
    "name": "ipython",
    "version": 3
   },
   "file_extension": ".py",
   "mimetype": "text/x-python",
   "name": "python",
   "nbconvert_exporter": "python",
   "pygments_lexer": "ipython3",
   "version": "3.6.4"
  }
 },
 "nbformat": 4,
 "nbformat_minor": 2
}
