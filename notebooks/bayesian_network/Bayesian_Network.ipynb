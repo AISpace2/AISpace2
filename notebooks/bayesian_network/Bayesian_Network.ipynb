{
 "cells": [
  {
   "cell_type": "markdown",
   "metadata": {},
   "source": [
    "# [8.3 Belief Networks](https://artint.info/2e/html/ArtInt2e.Ch8.S3.html)\n",
    "- [Implementation Details](http://artint.info/AIPython/aipython.pdf#page=137) (page 137)\n",
    "\n",
    "## About\n",
    "A __Bayesian network__, also called a __belief network__, is a model of conditional dependence among a set of random variables. The conditional independence in a Bayesian network takes in an ordering of the variables, and results in an acyclic directed graph (DAG). Associated with each node of a Bayesian network is a set of conditional probability distributions (factors) that specify the conditional probability of each variable given its parents (which includes the prior probabilities of those variables with no parents).\n",
    "\n",
    "## Instructions\n",
    "\n",
    "Each section header contains a link to the corresponding chapter in the accompanying textbook, and an \"Implementation Details\" link provided throughout tells you how the implementation works. Before using this notebook, make sure you have followed the [installation instructions](https://aispace2.github.io/AISpace2/install.html) beforehand.\n",
    "\n",
    "You can run each cell by selecting it and pressing *Ctrl+Enter* in Windows or *Shift+Return* in Mac. Alternatively, you can click the *Play* button in the toolbar, to the left of the stop button. \n",
    "\n",
    "For more information, including how the code in this notebook differs from that in [AIPython](aipython.org), check out the [Reference](https://aispace2.github.io/AISpace2/reference.html)."
   ]
  },
  {
   "cell_type": "code",
   "execution_count": 1,
   "metadata": {},
   "outputs": [],
   "source": [
    "# Run this first to import dependencies\n",
    "from aispace2.jupyter.bayes import Displayable\n",
    "from aipython.probGraphicalModels import Belief_network, bn1, bn2, bn3\n",
    "from aipython.probVariables import Variable\n",
    "from aipython.probFactors import Prob"
   ]
  },
  {
   "cell_type": "code",
   "execution_count": 2,
   "metadata": {},
   "outputs": [],
   "source": [
    "class Belief_Network_Displayer(Displayable):\n",
    "        def __init__(self, problem):\n",
    "            self.problem = problem\n",
    "            self.decimal_place = 2\n",
    "            super().__init__()"
   ]
  },
  {
   "cell_type": "code",
   "execution_count": 3,
   "metadata": {},
   "outputs": [
    {
     "data": {
      "application/vnd.jupyter.widget-view+json": {
       "model_id": "e54f3181b4dd451b9f71564321f5a26b",
       "version_major": 2,
       "version_minor": 0
      },
      "text/plain": [
       "Belief_Network_Displayer(detail_level=1, graph=<aipython.probGraphicalModels.Belief_network object at 0x103c36…"
      ]
     },
     "metadata": {},
     "output_type": "display_data"
    }
   ],
   "source": [
    "bn = Belief_Network_Displayer(problem=bn1)\n",
    "bn.detail_level = 1 # 0=no text, 1=truncated text, 2=full text\n",
    "bn.text_size = 15\n",
    "bn.decimal_place = 2\n",
    "display(bn)"
   ]
  },
  {
   "cell_type": "code",
   "execution_count": null,
   "metadata": {},
   "outputs": [],
   "source": []
  }
 ],
 "metadata": {
  "kernelspec": {
   "display_name": "Python 3",
   "language": "python",
   "name": "python3"
  },
  "language_info": {
   "codemirror_mode": {
    "name": "ipython",
    "version": 3
   },
   "file_extension": ".py",
   "mimetype": "text/x-python",
   "name": "python",
   "nbconvert_exporter": "python",
   "pygments_lexer": "ipython3",
   "version": "3.6.8"
  }
 },
 "nbformat": 4,
 "nbformat_minor": 2
}
