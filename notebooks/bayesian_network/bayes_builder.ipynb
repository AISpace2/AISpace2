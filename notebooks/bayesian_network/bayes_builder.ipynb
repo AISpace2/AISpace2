{
 "cells": [
  {
   "cell_type": "markdown",
   "metadata": {},
   "source": [
    "# Building a Belief Network\n",
    "This notebook helps to construct a belief network visually. You can export the belief network and run query algorithms on it afterwards. You can create new nodes and edges, remove existing ones, and change the names and factors of variable nodes.\n",
    "\n",
    "You can run each cell by selecting it and pressing *Ctrl+Enter* in Windows or *Shift+Return* in Mac. Alternatively, you can click the *Play* button in the toolbar, to the left of the stop button. For more information, check out our AISpace2 [Tutorial](https://aispace2.github.io/AISpace2/tutorial.html).\n",
    "\n",
    "You need to run the following command to import our pre-defined problems."
   ]
  },
  {
   "cell_type": "code",
   "execution_count": null,
   "metadata": {},
   "outputs": [],
   "source": [
    "# Run this to import pre-defined problems\n",
    "from aipython.probGraphicalModels import bn_empty, bn1, bn2, bn3, bn4"
   ]
  },
  {
   "cell_type": "code",
   "execution_count": null,
   "metadata": {},
   "outputs": [],
   "source": [
    "from aispace2.jupyter.bayes import BayesBuilder\n",
    "\n",
    "builder = BayesBuilder(bn_empty)\n",
    "builder.text_size = 15\n",
    "builder"
   ]
  },
  {
   "cell_type": "markdown",
   "metadata": {},
   "source": [
    "## Obtaining the CSP\n",
    "The builder exposes two methods that allow you to get the CSP represented by the builder:\n",
    "\n",
    "- `bayes_problem()`, which returns an instance of `Belief_network`.\n",
    "- `py_code()`, which generates Python code that, once run, construct an instance of the `Belief_network`."
   ]
  },
  {
   "cell_type": "code",
   "execution_count": null,
   "metadata": {},
   "outputs": [],
   "source": [
    "builder.bayes_problem()"
   ]
  },
  {
   "cell_type": "code",
   "execution_count": null,
   "metadata": {
    "collapsed": true
   },
   "outputs": [],
   "source": [
    "builder.py_code()"
   ]
  },
  {
   "cell_type": "code",
   "execution_count": null,
   "metadata": {},
   "outputs": [],
   "source": []
  }
 ],
 "metadata": {
  "kernelspec": {
   "display_name": "Python 3",
   "language": "python",
   "name": "python3"
  },
  "language_info": {
   "codemirror_mode": {
    "name": "ipython",
    "version": 3
   },
   "file_extension": ".py",
   "mimetype": "text/x-python",
   "name": "python",
   "nbconvert_exporter": "python",
   "pygments_lexer": "ipython3",
   "version": "3.6.8"
  }
 },
 "nbformat": 4,
 "nbformat_minor": 2
}
