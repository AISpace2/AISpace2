{
 "cells": [
  {
   "cell_type": "markdown",
   "metadata": {},
   "source": [
    "# XML to Python Parsers\n",
    "These parsers are for converting problems from AIspace (XML format) to AISpace2 (Python code).\n",
    "\n",
    "## About\n",
    "Change ```path_to_xml``` to the path to your XML file and run the script. The result is the Python code to construct the corresponding problem."
   ]
  },
  {
   "cell_type": "markdown",
   "metadata": {},
   "source": [
    "## Search Parser"
   ]
  },
  {
   "cell_type": "code",
   "execution_count": null,
   "metadata": {},
   "outputs": [],
   "source": [
    "from aispace2.jupyter.search import xml_to_python\n",
    "\n",
    "path_to_xml = \"../aispace2/jupyter/search/search_tree.xml\"  ## Fill in the Path to your XML file\n",
    "xml_to_python(path=path_to_xml)"
   ]
  },
  {
   "cell_type": "markdown",
   "metadata": {},
   "source": [
    "## CSP Parser"
   ]
  },
  {
   "cell_type": "code",
   "execution_count": null,
   "metadata": {},
   "outputs": [],
   "source": [
    "from aispace2.jupyter.csp import xml_to_python\n",
    "\n",
    "path_to_xml = \"../aispace2/jupyter/csp/csp_simple1.xml\"  ## Fill in the Path to your XML file\n",
    "xml_to_python(path=path_to_xml)"
   ]
  },
  {
   "cell_type": "markdown",
   "metadata": {},
   "source": [
    "## Belief Network Parser"
   ]
  },
  {
   "cell_type": "code",
   "execution_count": null,
   "metadata": {},
   "outputs": [],
   "source": [
    "from aispace2.jupyter.bayes import xml_to_python\n",
    "\n",
    "path_to_xml = \"../aispace2/jupyter/bayes/bn_fire_alarm.xml\"  ## Fill in the Path to your XML file\n",
    "xml_to_python(path=path_to_xml)"
   ]
  },
  {
   "cell_type": "code",
   "execution_count": null,
   "metadata": {},
   "outputs": [],
   "source": []
  }
 ],
 "metadata": {
  "kernelspec": {
   "display_name": "Python 3",
   "language": "python",
   "name": "python3"
  },
  "language_info": {
   "codemirror_mode": {
    "name": "ipython",
    "version": 3
   },
   "file_extension": ".py",
   "mimetype": "text/x-python",
   "name": "python",
   "nbconvert_exporter": "python",
   "pygments_lexer": "ipython3",
   "version": "3.6.8"
  }
 },
 "nbformat": 4,
 "nbformat_minor": 4
}
